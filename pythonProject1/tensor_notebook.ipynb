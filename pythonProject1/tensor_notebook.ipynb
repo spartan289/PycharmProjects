{
 "cells": [
  {
   "cell_type": "code",
   "execution_count": 1,
   "metadata": {
    "collapsed": true
   },
   "outputs": [],
   "source": [
    "import  tensorflow as tf"
   ]
  },
  {
   "cell_type": "code",
   "execution_count": 2,
   "outputs": [],
   "source": [
    "weights = tf.Variable(tf.random.normal([300,200],stddev=0.5), name=\"weights\",trainable=False)"
   ],
   "metadata": {
    "collapsed": false
   }
  },
  {
   "cell_type": "code",
   "execution_count": 3,
   "outputs": [
    {
     "data": {
      "text/plain": "<tf.Variable 'weights:0' shape=(300, 200) dtype=float32, numpy=\narray([[ 0.11133306, -0.5649823 ,  0.33911073, ...,  0.04064405,\n         0.01406022,  0.1195648 ],\n       [-0.26079348, -0.27752352, -0.7128317 , ...,  0.33975756,\n         0.44156617,  0.0966454 ],\n       [-0.69110924, -0.11850679, -0.10904244, ...,  0.32427162,\n        -0.81164193,  0.5578869 ],\n       ...,\n       [-0.4047846 ,  0.20278344, -0.74502957, ...,  0.32194304,\n         0.07472521,  0.23632056],\n       [-0.1197729 , -0.21334721, -0.12864408, ..., -0.6131059 ,\n        -0.6234844 ,  0.19360615],\n       [-1.6863457 , -0.03595568,  0.40333736, ..., -0.33525887,\n         0.32919514, -0.6293966 ]], dtype=float32)>"
     },
     "execution_count": 3,
     "metadata": {},
     "output_type": "execute_result"
    }
   ],
   "source": [
    "weights"
   ],
   "metadata": {
    "collapsed": false
   }
  },
  {
   "cell_type": "code",
   "execution_count": null,
   "outputs": [],
   "source": [],
   "metadata": {
    "collapsed": false
   }
  }
 ],
 "metadata": {
  "kernelspec": {
   "display_name": "Python 3",
   "language": "python",
   "name": "python3"
  },
  "language_info": {
   "codemirror_mode": {
    "name": "ipython",
    "version": 2
   },
   "file_extension": ".py",
   "mimetype": "text/x-python",
   "name": "python",
   "nbconvert_exporter": "python",
   "pygments_lexer": "ipython2",
   "version": "2.7.6"
  }
 },
 "nbformat": 4,
 "nbformat_minor": 0
}
