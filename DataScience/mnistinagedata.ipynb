{
 "cells": [
  {
   "cell_type": "code",
   "execution_count": 1,
   "id": "b105726d",
   "metadata": {
    "id": "b105726d"
   },
   "outputs": [
    {
     "name": "stdout",
     "output_type": "stream",
     "text": [
      "Downloading data from https://storage.googleapis.com/tensorflow/tf-keras-datasets/mnist.npz\n",
      "11490434/11490434 [==============================] - 0s 0us/step\n"
     ]
    }
   ],
   "source": [
    "from keras.datasets import mnist\n",
    "\n",
    "(x_train, y_train), (x_test, y_test)  = mnist.load_data()"
   ]
  },
  {
   "cell_type": "code",
   "execution_count": 26,
   "id": "61a3a56c",
   "metadata": {
    "colab": {
     "base_uri": "https://localhost:8080/"
    },
    "id": "61a3a56c",
    "outputId": "fa411b18-3ab6-494a-c550-29b85bc205d1"
   },
   "outputs": [
    {
     "name": "stdout",
     "output_type": "stream",
     "text": [
      "(60000, 28, 28)\n",
      "(10000, 28, 28)\n",
      "(60000,)\n",
      "(10000,)\n"
     ]
    }
   ],
   "source": [
    "print (x_train.shape)\n",
    "print (x_test.shape)\n",
    "print (y_train.shape)\n",
    "print (y_test.shape)"
   ]
  },
  {
   "cell_type": "code",
   "execution_count": 27,
   "id": "d7b2a9b0",
   "metadata": {
    "colab": {
     "base_uri": "https://localhost:8080/",
     "height": 191
    },
    "id": "d7b2a9b0",
    "outputId": "298bff31-573e-4633-8e09-8ba7ed6fbf24"
   },
   "outputs": [
    {
     "data": {
      "image/png": "[encoded data removed]",
      "text/plain": [
       "<Figure size 432x288 with 6 Axes>"
      ]
     },
     "metadata": {
      "needs_background": "light"
     },
     "output_type": "display_data"
    }
   ],
   "source": [
    "# importing matplot lib\n",
    "import matplotlib.pyplot as plt\n",
    "import numpy as np\n",
    "\n",
    "# Plots 6 images, note subplot's arugments are nrows,ncols,index\n",
    "# we set the color map to grey since our image dataset is grayscale\n",
    "plt.subplot(331)\n",
    "random_num = np.random.randint(0,len(x_train))\n",
    "plt.imshow(x_train[random_num], cmap=plt.get_cmap('gray'))\n",
    "\n",
    "plt.subplot(332)\n",
    "random_num = np.random.randint(0,len(x_train))\n",
    "plt.imshow(x_train[random_num], cmap=plt.get_cmap('gray'))\n",
    "\n",
    "plt.subplot(333)\n",
    "random_num = np.random.randint(0,len(x_train))\n",
    "plt.imshow(x_train[random_num], cmap=plt.get_cmap('gray'))\n",
    "\n",
    "plt.subplot(334)\n",
    "random_num = np.random.randint(0,len(x_train))\n",
    "plt.imshow(x_train[random_num], cmap=plt.get_cmap('gray'))\n",
    "\n",
    "plt.subplot(335)\n",
    "random_num = np.random.randint(0,len(x_train))\n",
    "plt.imshow(x_train[random_num], cmap=plt.get_cmap('gray'))\n",
    "\n",
    "plt.subplot(336)\n",
    "random_num = np.random.randint(0,len(x_train))\n",
    "plt.imshow(x_train[random_num], cmap=plt.get_cmap('gray'))\n",
    "\n",
    "# Display out plots\n",
    "plt.show()"
   ]
  },
  {
   "cell_type": "code",
   "execution_count": 28,
   "id": "87504296",
   "metadata": {
    "colab": {
     "base_uri": "https://localhost:8080/"
    },
    "id": "87504296",
    "outputId": "54fbb8ff-5494-4508-b402-24e031ea9642"
   },
   "outputs": [
    {
     "name": "stdout",
     "output_type": "stream",
     "text": [
      "x_train shape: (60000, 28, 28, 1)\n",
      "60000 train samples\n",
      "10000 test samples\n"
     ]
    }
   ],
   "source": [
    "img_rows = x_train[0].shape[0]\n",
    "img_cols = x_train[0].shape[1]\n",
    "\n",
    "x_train = x_train.reshape(x_train.shape[0], img_rows, img_cols, 1)\n",
    "x_test = x_test.reshape(x_test.shape[0], img_rows, img_cols, 1)\n",
    "\n",
    "input_shape = (img_rows, img_cols, 1)\n",
    "\n",
    "x_train = x_train.astype('float32')\n",
    "x_test = x_test.astype('float32')\n",
    "\n",
    "x_train /= 255\n",
    "x_test /= 255\n",
    "\n",
    "print('x_train shape:', x_train.shape)\n",
    "print(x_train.shape[0], 'train samples')\n",
    "print(x_test.shape[0], 'test samples')"
   ]
  },
  {
   "cell_type": "code",
   "execution_count": 29,
   "id": "6865e220",
   "metadata": {
    "id": "6865e220"
   },
   "outputs": [],
   "source": [
    "from keras.utils import np_utils\n",
    "\n",
    "# Now we one hot encode outputs\n",
    "y_train = np_utils.to_categorical(y_train)\n",
    "y_test = np_utils.to_categorical(y_test)\n"
   ]
  },
  {
   "cell_type": "code",
   "execution_count": 29,
   "id": "2da2595f",
   "metadata": {
    "id": "2da2595f"
   },
   "outputs": [],
   "source": []
  },
  {
   "cell_type": "code",
   "execution_count": 30,
   "id": "6e0db464",
   "metadata": {
    "colab": {
     "base_uri": "https://localhost:8080/"
    },
    "id": "6e0db464",
    "outputId": "3dcf4398-38ca-4c31-b4ba-13f545d2d957"
   },
   "outputs": [
    {
     "name": "stdout",
     "output_type": "stream",
     "text": [
      "Number of Classes: 10\n"
     ]
    }
   ],
   "source": [
    "print (\"Number of Classes: \" + str(y_test.shape[1]))\n",
    "\n",
    "num_classes = y_test.shape[1]\n",
    "num_pixels = x_train.shape[1] * x_train.shape[2]"
   ]
  },
  {
   "cell_type": "code",
   "execution_count": 31,
   "id": "71a5873d",
   "metadata": {
    "colab": {
     "base_uri": "https://localhost:8080/"
    },
    "id": "71a5873d",
    "outputId": "9d8985bf-9b77-407c-c101-15dde19c68fd"
   },
   "outputs": [
    {
     "name": "stdout",
     "output_type": "stream",
     "text": [
      "28 28\n"
     ]
    }
   ],
   "source": [
    "print( x_train.shape[1] , x_train.shape[2])"
   ]
  },
  {
   "cell_type": "code",
   "execution_count": 32,
   "id": "2d1ab246",
   "metadata": {
    "colab": {
     "base_uri": "https://localhost:8080/"
    },
    "id": "2d1ab246",
    "outputId": "b330ed1e-7999-455b-e3e8-1a1002170a1b"
   },
   "outputs": [
    {
     "data": {
      "text/plain": [
       "array([0., 0., 0., 0., 0., 1., 0., 0., 0., 0.], dtype=float32)"
      ]
     },
     "execution_count": 32,
     "metadata": {},
     "output_type": "execute_result"
    }
   ],
   "source": [
    "y_train[0]"
   ]
  },
  {
   "cell_type": "code",
   "execution_count": 33,
   "id": "339ab8eb",
   "metadata": {
    "id": "339ab8eb"
   },
   "outputs": [],
   "source": [
    "import keras\n",
    "from keras.datasets import mnist\n",
    "from keras.models import Sequential\n",
    "from keras.layers import Dense, Dropout, Flatten\n",
    "from keras.layers import Conv2D, MaxPooling2D\n",
    "from keras import backend as K\n",
    "from keras.optimizers import Adam"
   ]
  },
  {
   "cell_type": "code",
   "execution_count": 38,
   "id": "29ff9d24",
   "metadata": {
    "colab": {
     "base_uri": "https://localhost:8080/"
    },
    "id": "29ff9d24",
    "outputId": "9c4aef89-3e56-4f0e-ba10-44e289871192"
   },
   "outputs": [
    {
     "name": "stdout",
     "output_type": "stream",
     "text": [
      "Model: \"sequential_7\"\n",
      "_________________________________________________________________\n",
      " Layer (type)                Output Shape              Param #   \n",
      "=================================================================\n",
      " conv2d_16 (Conv2D)          (None, 26, 26, 8)         80        \n",
      "                                                                 \n",
      " conv2d_17 (Conv2D)          (None, 24, 24, 16)        1168      \n",
      "                                                                 \n",
      " conv2d_18 (Conv2D)          (None, 22, 22, 32)        4640      \n",
      "                                                                 \n",
      " max_pooling2d_6 (MaxPooling  (None, 11, 11, 32)       0         \n",
      " 2D)                                                             \n",
      "                                                                 \n",
      " flatten_6 (Flatten)         (None, 3872)              0         \n",
      "                                                                 \n",
      " dense_18 (Dense)            (None, 16)                61968     \n",
      "                                                                 \n",
      " dense_19 (Dense)            (None, 15)                255       \n",
      "                                                                 \n",
      " dense_20 (Dense)            (None, 10)                160       \n",
      "                                                                 \n",
      "=================================================================\n",
      "Total params: 68,271\n",
      "Trainable params: 68,271\n",
      "Non-trainable params: 0\n",
      "_________________________________________________________________\n",
      "None\n"
     ]
    }
   ],
   "source": [
    "\n",
    "model = Sequential()\n",
    "\n",
    "model.add(Conv2D(8,kernel_size = (3,3), activation = 'relu',\n",
    "                input_shape = input_shape))\n",
    "\n",
    "model.add(Conv2D(16, ( 3,3) ,  activation = 'relu' ))\n",
    "\n",
    "model.add(Conv2D(32, ( 3,3) ,  activation = 'relu' ))\n",
    "\n",
    "model.add(MaxPooling2D(pool_size=(2, 2)))\n",
    "\n",
    "model.add(Flatten())\n",
    "\n",
    "model.add(Dense(16, activation='sigmoid'))\n",
    "model.add(Dense(15, activation='sigmoid'))\n",
    "\n",
    "model.add(Dense(num_classes, activation='softmax'))\n",
    "\n",
    "model.compile(loss = 'categorical_crossentropy',\n",
    "             optimizer = Adam(),\n",
    "             metrics = ['accuracy']\n",
    "            )\n",
    "\n",
    "print(model.summary())"
   ]
  },
  {
   "cell_type": "code",
   "execution_count": null,
   "id": "93f49868",
   "metadata": {
    "colab": {
     "base_uri": "https://localhost:8080/"
    },
    "id": "93f49868",
    "outputId": "90320fb9-ecef-4211-c425-1a2248548deb"
   },
   "outputs": [
    {
     "name": "stdout",
     "output_type": "stream",
     "text": [
      "Epoch 1/50\n",
      "1875/1875 [==============================] - 11s 6ms/step - loss: 0.0465 - accuracy: 0.9874 - val_loss: 0.0491 - val_accuracy: 0.9865\n",
      "Epoch 2/50\n",
      "1875/1875 [==============================] - 11s 6ms/step - loss: 0.0284 - accuracy: 0.9922 - val_loss: 0.0476 - val_accuracy: 0.9854\n",
      "Epoch 3/50\n",
      "1875/1875 [==============================] - 11s 6ms/step - loss: 0.0233 - accuracy: 0.9937 - val_loss: 0.0442 - val_accuracy: 0.9876\n",
      "Epoch 4/50\n",
      "1875/1875 [==============================] - 11s 6ms/step - loss: 0.0189 - accuracy: 0.9952 - val_loss: 0.0416 - val_accuracy: 0.9881\n",
      "Epoch 5/50\n",
      "1875/1875 [==============================] - 10s 5ms/step - loss: 0.0170 - accuracy: 0.9955 - val_loss: 0.0476 - val_accuracy: 0.9878\n",
      "Epoch 6/50\n",
      "1875/1875 [==============================] - 10s 5ms/step - loss: 0.0151 - accuracy: 0.9961 - val_loss: 0.0461 - val_accuracy: 0.9871\n",
      "Epoch 7/50\n",
      "1875/1875 [==============================] - 11s 6ms/step - loss: 0.0126 - accuracy: 0.9966 - val_loss: 0.0511 - val_accuracy: 0.9855\n",
      "Epoch 8/50\n",
      "1875/1875 [==============================] - 11s 6ms/step - loss: 0.0102 - accuracy: 0.9973 - val_loss: 0.0563 - val_accuracy: 0.9842\n",
      "Epoch 9/50\n",
      "1875/1875 [==============================] - 11s 6ms/step - loss: 0.0087 - accuracy: 0.9978 - val_loss: 0.0428 - val_accuracy: 0.9886\n",
      "Epoch 10/50\n",
      "1875/1875 [==============================] - 10s 6ms/step - loss: 0.0098 - accuracy: 0.9974 - val_loss: 0.0452 - val_accuracy: 0.9872\n",
      "Epoch 11/50\n",
      " 162/1875 [=>............................] - ETA: 8s - loss: 0.0060 - accuracy: 0.9983"
     ]
    }
   ],
   "source": [
    "batch_size = 32\n",
    "epochs = 50\n",
    "\n",
    "history = model.fit(x_train,\n",
    "                    y_train,\n",
    "                    batch_size = batch_size,\n",
    "                    epochs = epochs,\n",
    "                    verbose = 1,\n",
    "                    validation_data = (x_test, y_test))\n",
    "\n",
    "score = model.evaluate(x_test, y_test, verbose=0)\n",
    "print('Test loss:', score[0])\n",
    "print('Test accuracy:', score[1])"
   ]
  },
  {
   "cell_type": "code",
   "execution_count": null,
   "id": "abed1b4d",
   "metadata": {
    "id": "abed1b4d"
   },
   "outputs": [],
   "source": []
  }
 ],
 "metadata": {
  "accelerator": "GPU",
  "colab": {
   "provenance": []
  },
  "gpuClass": "standard",
  "kernelspec": {
   "display_name": "Python 3 (ipykernel)",
   "language": "python",
   "name": "python3"
  },
  "language_info": {
   "codemirror_mode": {
    "name": "ipython",
    "version": 3
   },
   "file_extension": ".py",
   "mimetype": "text/x-python",
   "name": "python",
   "nbconvert_exporter": "python",
   "pygments_lexer": "ipython3",
   "version": "3.9.1"
  }
 },
 "nbformat": 4,
 "nbformat_minor": 5
}
