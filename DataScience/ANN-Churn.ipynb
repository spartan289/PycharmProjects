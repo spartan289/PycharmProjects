{
 "cells": [
  {
   "cell_type": "code",
   "execution_count": 1,
   "metadata": {},
   "outputs": [],
   "source": [
    "import numpy as np\n",
    "import pandas as pd"
   ]
  },
  {
   "cell_type": "code",
   "execution_count": 2,
   "metadata": {},
   "outputs": [],
   "source": [
    "data = pd.read_csv(r\"C:\\Users\\ashuv\\Desktop\\csv\\Churn_Modelling.csv\")"
   ]
  },
  {
   "cell_type": "code",
   "execution_count": 3,
   "metadata": {},
   "outputs": [
    {
     "data": {
      "text/plain": [
       "RowNumber          0\n",
       "CustomerId         0\n",
       "Surname            0\n",
       "CreditScore        0\n",
       "Geography          0\n",
       "Gender             0\n",
       "Age                0\n",
       "Tenure             0\n",
       "Balance            0\n",
       "NumOfProducts      0\n",
       "HasCrCard          0\n",
       "IsActiveMember     0\n",
       "EstimatedSalary    0\n",
       "Exited             0\n",
       "dtype: int64"
      ]
     },
     "execution_count": 3,
     "metadata": {},
     "output_type": "execute_result"
    }
   ],
   "source": [
    "data.isna().sum()"
   ]
  },
  {
   "cell_type": "code",
   "execution_count": 4,
   "metadata": {},
   "outputs": [
    {
     "data": {
      "text/html": [
       "<div>\n",
       "<style scoped>\n",
       "    .dataframe tbody tr th:only-of-type {\n",
       "        vertical-align: middle;\n",
       "    }\n",
       "\n",
       "    .dataframe tbody tr th {\n",
       "        vertical-align: top;\n",
       "    }\n",
       "\n",
       "    .dataframe thead th {\n",
       "        text-align: right;\n",
       "    }\n",
       "</style>\n",
       "<table border=\"1\" class=\"dataframe\">\n",
       "  <thead>\n",
       "    <tr style=\"text-align: right;\">\n",
       "      <th></th>\n",
       "      <th>RowNumber</th>\n",
       "      <th>CustomerId</th>\n",
       "      <th>Surname</th>\n",
       "      <th>CreditScore</th>\n",
       "      <th>Geography</th>\n",
       "      <th>Gender</th>\n",
       "      <th>Age</th>\n",
       "      <th>Tenure</th>\n",
       "      <th>Balance</th>\n",
       "      <th>NumOfProducts</th>\n",
       "      <th>HasCrCard</th>\n",
       "      <th>IsActiveMember</th>\n",
       "      <th>EstimatedSalary</th>\n",
       "      <th>Exited</th>\n",
       "    </tr>\n",
       "  </thead>\n",
       "  <tbody>\n",
       "    <tr>\n",
       "      <th>0</th>\n",
       "      <td>1</td>\n",
       "      <td>15634602</td>\n",
       "      <td>Hargrave</td>\n",
       "      <td>619</td>\n",
       "      <td>France</td>\n",
       "      <td>Female</td>\n",
       "      <td>42</td>\n",
       "      <td>2</td>\n",
       "      <td>0.00</td>\n",
       "      <td>1</td>\n",
       "      <td>1</td>\n",
       "      <td>1</td>\n",
       "      <td>101348.88</td>\n",
       "      <td>1</td>\n",
       "    </tr>\n",
       "    <tr>\n",
       "      <th>1</th>\n",
       "      <td>2</td>\n",
       "      <td>15647311</td>\n",
       "      <td>Hill</td>\n",
       "      <td>608</td>\n",
       "      <td>Spain</td>\n",
       "      <td>Female</td>\n",
       "      <td>41</td>\n",
       "      <td>1</td>\n",
       "      <td>83807.86</td>\n",
       "      <td>1</td>\n",
       "      <td>0</td>\n",
       "      <td>1</td>\n",
       "      <td>112542.58</td>\n",
       "      <td>0</td>\n",
       "    </tr>\n",
       "    <tr>\n",
       "      <th>2</th>\n",
       "      <td>3</td>\n",
       "      <td>15619304</td>\n",
       "      <td>Onio</td>\n",
       "      <td>502</td>\n",
       "      <td>France</td>\n",
       "      <td>Female</td>\n",
       "      <td>42</td>\n",
       "      <td>8</td>\n",
       "      <td>159660.80</td>\n",
       "      <td>3</td>\n",
       "      <td>1</td>\n",
       "      <td>0</td>\n",
       "      <td>113931.57</td>\n",
       "      <td>1</td>\n",
       "    </tr>\n",
       "    <tr>\n",
       "      <th>3</th>\n",
       "      <td>4</td>\n",
       "      <td>15701354</td>\n",
       "      <td>Boni</td>\n",
       "      <td>699</td>\n",
       "      <td>France</td>\n",
       "      <td>Female</td>\n",
       "      <td>39</td>\n",
       "      <td>1</td>\n",
       "      <td>0.00</td>\n",
       "      <td>2</td>\n",
       "      <td>0</td>\n",
       "      <td>0</td>\n",
       "      <td>93826.63</td>\n",
       "      <td>0</td>\n",
       "    </tr>\n",
       "    <tr>\n",
       "      <th>4</th>\n",
       "      <td>5</td>\n",
       "      <td>15737888</td>\n",
       "      <td>Mitchell</td>\n",
       "      <td>850</td>\n",
       "      <td>Spain</td>\n",
       "      <td>Female</td>\n",
       "      <td>43</td>\n",
       "      <td>2</td>\n",
       "      <td>125510.82</td>\n",
       "      <td>1</td>\n",
       "      <td>1</td>\n",
       "      <td>1</td>\n",
       "      <td>79084.10</td>\n",
       "      <td>0</td>\n",
       "    </tr>\n",
       "    <tr>\n",
       "      <th>...</th>\n",
       "      <td>...</td>\n",
       "      <td>...</td>\n",
       "      <td>...</td>\n",
       "      <td>...</td>\n",
       "      <td>...</td>\n",
       "      <td>...</td>\n",
       "      <td>...</td>\n",
       "      <td>...</td>\n",
       "      <td>...</td>\n",
       "      <td>...</td>\n",
       "      <td>...</td>\n",
       "      <td>...</td>\n",
       "      <td>...</td>\n",
       "      <td>...</td>\n",
       "    </tr>\n",
       "    <tr>\n",
       "      <th>9995</th>\n",
       "      <td>9996</td>\n",
       "      <td>15606229</td>\n",
       "      <td>Obijiaku</td>\n",
       "      <td>771</td>\n",
       "      <td>France</td>\n",
       "      <td>Male</td>\n",
       "      <td>39</td>\n",
       "      <td>5</td>\n",
       "      <td>0.00</td>\n",
       "      <td>2</td>\n",
       "      <td>1</td>\n",
       "      <td>0</td>\n",
       "      <td>96270.64</td>\n",
       "      <td>0</td>\n",
       "    </tr>\n",
       "    <tr>\n",
       "      <th>9996</th>\n",
       "      <td>9997</td>\n",
       "      <td>15569892</td>\n",
       "      <td>Johnstone</td>\n",
       "      <td>516</td>\n",
       "      <td>France</td>\n",
       "      <td>Male</td>\n",
       "      <td>35</td>\n",
       "      <td>10</td>\n",
       "      <td>57369.61</td>\n",
       "      <td>1</td>\n",
       "      <td>1</td>\n",
       "      <td>1</td>\n",
       "      <td>101699.77</td>\n",
       "      <td>0</td>\n",
       "    </tr>\n",
       "    <tr>\n",
       "      <th>9997</th>\n",
       "      <td>9998</td>\n",
       "      <td>15584532</td>\n",
       "      <td>Liu</td>\n",
       "      <td>709</td>\n",
       "      <td>France</td>\n",
       "      <td>Female</td>\n",
       "      <td>36</td>\n",
       "      <td>7</td>\n",
       "      <td>0.00</td>\n",
       "      <td>1</td>\n",
       "      <td>0</td>\n",
       "      <td>1</td>\n",
       "      <td>42085.58</td>\n",
       "      <td>1</td>\n",
       "    </tr>\n",
       "    <tr>\n",
       "      <th>9998</th>\n",
       "      <td>9999</td>\n",
       "      <td>15682355</td>\n",
       "      <td>Sabbatini</td>\n",
       "      <td>772</td>\n",
       "      <td>Germany</td>\n",
       "      <td>Male</td>\n",
       "      <td>42</td>\n",
       "      <td>3</td>\n",
       "      <td>75075.31</td>\n",
       "      <td>2</td>\n",
       "      <td>1</td>\n",
       "      <td>0</td>\n",
       "      <td>92888.52</td>\n",
       "      <td>1</td>\n",
       "    </tr>\n",
       "    <tr>\n",
       "      <th>9999</th>\n",
       "      <td>10000</td>\n",
       "      <td>15628319</td>\n",
       "      <td>Walker</td>\n",
       "      <td>792</td>\n",
       "      <td>France</td>\n",
       "      <td>Female</td>\n",
       "      <td>28</td>\n",
       "      <td>4</td>\n",
       "      <td>130142.79</td>\n",
       "      <td>1</td>\n",
       "      <td>1</td>\n",
       "      <td>0</td>\n",
       "      <td>38190.78</td>\n",
       "      <td>0</td>\n",
       "    </tr>\n",
       "  </tbody>\n",
       "</table>\n",
       "<p>10000 rows × 14 columns</p>\n",
       "</div>"
      ],
      "text/plain": [
       "      RowNumber  CustomerId    Surname  CreditScore Geography  Gender  Age  \\\n",
       "0             1    15634602   Hargrave          619    France  Female   42   \n",
       "1             2    15647311       Hill          608     Spain  Female   41   \n",
       "2             3    15619304       Onio          502    France  Female   42   \n",
       "3             4    15701354       Boni          699    France  Female   39   \n",
       "4             5    15737888   Mitchell          850     Spain  Female   43   \n",
       "...         ...         ...        ...          ...       ...     ...  ...   \n",
       "9995       9996    15606229   Obijiaku          771    France    Male   39   \n",
       "9996       9997    15569892  Johnstone          516    France    Male   35   \n",
       "9997       9998    15584532        Liu          709    France  Female   36   \n",
       "9998       9999    15682355  Sabbatini          772   Germany    Male   42   \n",
       "9999      10000    15628319     Walker          792    France  Female   28   \n",
       "\n",
       "      Tenure    Balance  NumOfProducts  HasCrCard  IsActiveMember  \\\n",
       "0          2       0.00              1          1               1   \n",
       "1          1   83807.86              1          0               1   \n",
       "2          8  159660.80              3          1               0   \n",
       "3          1       0.00              2          0               0   \n",
       "4          2  125510.82              1          1               1   \n",
       "...      ...        ...            ...        ...             ...   \n",
       "9995       5       0.00              2          1               0   \n",
       "9996      10   57369.61              1          1               1   \n",
       "9997       7       0.00              1          0               1   \n",
       "9998       3   75075.31              2          1               0   \n",
       "9999       4  130142.79              1          1               0   \n",
       "\n",
       "      EstimatedSalary  Exited  \n",
       "0           101348.88       1  \n",
       "1           112542.58       0  \n",
       "2           113931.57       1  \n",
       "3            93826.63       0  \n",
       "4            79084.10       0  \n",
       "...               ...     ...  \n",
       "9995         96270.64       0  \n",
       "9996        101699.77       0  \n",
       "9997         42085.58       1  \n",
       "9998         92888.52       1  \n",
       "9999         38190.78       0  \n",
       "\n",
       "[10000 rows x 14 columns]"
      ]
     },
     "execution_count": 4,
     "metadata": {},
     "output_type": "execute_result"
    }
   ],
   "source": [
    "data"
   ]
  },
  {
   "cell_type": "code",
   "execution_count": 6,
   "metadata": {},
   "outputs": [],
   "source": [
    "#X = data.iloc[:,3:13].values"
   ]
  },
  {
   "cell_type": "code",
   "execution_count": 5,
   "metadata": {},
   "outputs": [],
   "source": [
    "X = data.drop(columns = [\"Exited\",'RowNumber','CustomerId','Surname'])"
   ]
  },
  {
   "cell_type": "code",
   "execution_count": 7,
   "metadata": {},
   "outputs": [],
   "source": [
    "X= pd.get_dummies(X, columns=['Geography','Gender'])"
   ]
  },
  {
   "cell_type": "code",
   "execution_count": 8,
   "metadata": {},
   "outputs": [],
   "source": [
    "y = data.iloc[:,13].values"
   ]
  },
  {
   "cell_type": "code",
   "execution_count": 9,
   "metadata": {},
   "outputs": [],
   "source": [
    "y = data[\"Exited\"]"
   ]
  },
  {
   "cell_type": "code",
   "execution_count": 13,
   "metadata": {},
   "outputs": [
    {
     "data": {
      "text/plain": [
       "(10000, 13)"
      ]
     },
     "execution_count": 13,
     "metadata": {},
     "output_type": "execute_result"
    }
   ],
   "source": [
    "X.shape"
   ]
  },
  {
   "cell_type": "code",
   "execution_count": 12,
   "metadata": {},
   "outputs": [],
   "source": [
    "from sklearn.model_selection import train_test_split\n",
    "\n",
    "X_train, X_test, y_train, y_test = train_test_split(X, y, test_size =0.2, random_state =4)"
   ]
  },
  {
   "cell_type": "code",
   "execution_count": 10,
   "metadata": {},
   "outputs": [],
   "source": [
    "from sklearn.preprocessing import StandardScaler\n",
    "sc = StandardScaler()\n",
    "X= sc.fit_transform(X)\n",
    "#X_test = sc.transform(X_test)"
   ]
  },
  {
   "cell_type": "code",
   "execution_count": 33,
   "metadata": {},
   "outputs": [],
   "source": [
    "from keras.utils import np_utils\n",
    "X_train = X_train.astype('float32')\n",
    "X_test = X_test.astype('float32')\n",
    "\n",
    "X_train /= 255\n",
    "X_test /= 255\n",
    "\n",
    "Y_train = np_utils.to_categorical(y_train, 26)\n",
    "Y_test = np_utils.to_categorical(y_test, 26)"
   ]
  },
  {
   "cell_type": "code",
   "execution_count": 15,
   "metadata": {},
   "outputs": [],
   "source": [
    "import keras\n",
    "from keras.models import Sequential\n",
    "from keras.layers import Dense\n",
    "import tensorflow as tf"
   ]
  },
  {
   "cell_type": "code",
   "execution_count": 30,
   "metadata": {},
   "outputs": [],
   "source": [
    "ann = Sequential()\n",
    "\n",
    "# Adding the input layer and the first hidden layer\n",
    "ann.add(Dense(units=13, activation='relu'))\n",
    "\n",
    "# Adding the second hidden layer\n",
    "ann.add(Dense(units=6, activation='relu'))\n",
    "\n",
    "# Adding the output layer\n",
    "ann.add(Dense(units=1, activation='softplus'))\n",
    "# Part 3 - Training the ANN\n",
    "\n",
    "# Compiling the ANN\n",
    "import tensorflow as tf\n",
    "opt = tf.keras.optimizers.Adam()\n",
    "#opt = tf.train.experimental.enable_mixed_precision_graph_rewrite(opt)\n",
    "\n",
    "ann.compile(loss=\"binary_crossentropy\",\n",
    "              optimizer=opt,\n",
    "              metrics=[\"accuracy\"])"
   ]
  },
  {
   "cell_type": "code",
   "execution_count": 31,
   "metadata": {},
   "outputs": [
    {
     "name": "stdout",
     "output_type": "stream",
     "text": [
      "Epoch 1/50\n",
      "250/250 [==============================] - 1s 1ms/step - loss: 0.6474 - accuracy: 0.6551 - val_loss: 0.4802 - val_accuracy: 0.8045\n",
      "Epoch 2/50\n",
      "250/250 [==============================] - 0s 812us/step - loss: 0.4640 - accuracy: 0.8035 - val_loss: 0.4354 - val_accuracy: 0.8185\n",
      "Epoch 3/50\n",
      "250/250 [==============================] - 0s 798us/step - loss: 0.4386 - accuracy: 0.8112 - val_loss: 0.4205 - val_accuracy: 0.8255\n",
      "Epoch 4/50\n",
      "250/250 [==============================] - 0s 824us/step - loss: 0.4260 - accuracy: 0.8176 - val_loss: 0.4133 - val_accuracy: 0.8240\n",
      "Epoch 5/50\n",
      "250/250 [==============================] - 0s 850us/step - loss: 0.4161 - accuracy: 0.8216 - val_loss: 0.4032 - val_accuracy: 0.8370\n",
      "Epoch 6/50\n",
      "250/250 [==============================] - 0s 800us/step - loss: 0.4068 - accuracy: 0.8301 - val_loss: 0.3951 - val_accuracy: 0.8395\n",
      "Epoch 7/50\n",
      "250/250 [==============================] - 0s 889us/step - loss: 0.3984 - accuracy: 0.8341 - val_loss: 0.3908 - val_accuracy: 0.8455\n",
      "Epoch 8/50\n",
      "250/250 [==============================] - 0s 917us/step - loss: 0.3886 - accuracy: 0.8401 - val_loss: 0.3798 - val_accuracy: 0.8545\n",
      "Epoch 9/50\n",
      "250/250 [==============================] - 0s 799us/step - loss: 0.3806 - accuracy: 0.8449 - val_loss: 0.3700 - val_accuracy: 0.8575\n",
      "Epoch 10/50\n",
      "250/250 [==============================] - 0s 846us/step - loss: 0.3752 - accuracy: 0.8459 - val_loss: 0.3603 - val_accuracy: 0.8610\n",
      "Epoch 11/50\n",
      "250/250 [==============================] - 0s 832us/step - loss: 0.3678 - accuracy: 0.8478 - val_loss: 0.3491 - val_accuracy: 0.8640\n",
      "Epoch 12/50\n",
      "250/250 [==============================] - 0s 792us/step - loss: 0.3624 - accuracy: 0.8501 - val_loss: 0.3438 - val_accuracy: 0.8635\n",
      "Epoch 13/50\n",
      "250/250 [==============================] - 0s 929us/step - loss: 0.3590 - accuracy: 0.8533 - val_loss: 0.3407 - val_accuracy: 0.8695\n",
      "Epoch 14/50\n",
      "250/250 [==============================] - 0s 1ms/step - loss: 0.3630 - accuracy: 0.8515 - val_loss: 0.3463 - val_accuracy: 0.8605\n",
      "Epoch 15/50\n",
      "250/250 [==============================] - 0s 812us/step - loss: 0.3593 - accuracy: 0.8528 - val_loss: 0.3382 - val_accuracy: 0.8650\n",
      "Epoch 16/50\n",
      "250/250 [==============================] - 0s 807us/step - loss: 0.3549 - accuracy: 0.8525 - val_loss: 0.3352 - val_accuracy: 0.8705\n",
      "Epoch 17/50\n",
      "250/250 [==============================] - 0s 943us/step - loss: 0.3525 - accuracy: 0.8544 - val_loss: 0.3330 - val_accuracy: 0.8695\n",
      "Epoch 18/50\n",
      "250/250 [==============================] - 0s 853us/step - loss: 0.3506 - accuracy: 0.8550 - val_loss: 0.3319 - val_accuracy: 0.8705\n",
      "Epoch 19/50\n",
      "250/250 [==============================] - 0s 843us/step - loss: 0.3505 - accuracy: 0.8566 - val_loss: 0.3313 - val_accuracy: 0.8675\n",
      "Epoch 20/50\n",
      "250/250 [==============================] - 0s 851us/step - loss: 0.3497 - accuracy: 0.8570 - val_loss: 0.3307 - val_accuracy: 0.8665\n",
      "Epoch 21/50\n",
      "250/250 [==============================] - 0s 806us/step - loss: 0.3488 - accuracy: 0.8579 - val_loss: 0.3326 - val_accuracy: 0.8670\n",
      "Epoch 22/50\n",
      "250/250 [==============================] - 0s 795us/step - loss: 0.3476 - accuracy: 0.8560 - val_loss: 0.3379 - val_accuracy: 0.8660\n",
      "Epoch 23/50\n",
      "250/250 [==============================] - 0s 881us/step - loss: 0.3474 - accuracy: 0.8596 - val_loss: 0.3437 - val_accuracy: 0.8670\n",
      "Epoch 24/50\n",
      "250/250 [==============================] - 0s 939us/step - loss: 0.3465 - accuracy: 0.8585 - val_loss: 0.3422 - val_accuracy: 0.8675\n",
      "Epoch 25/50\n",
      "250/250 [==============================] - 0s 962us/step - loss: 0.3482 - accuracy: 0.8589 - val_loss: 0.3474 - val_accuracy: 0.8695\n",
      "Epoch 26/50\n",
      "250/250 [==============================] - 0s 803us/step - loss: 0.3465 - accuracy: 0.8591 - val_loss: 0.3463 - val_accuracy: 0.8715\n",
      "Epoch 27/50\n",
      "250/250 [==============================] - 0s 861us/step - loss: 0.3498 - accuracy: 0.8596 - val_loss: 0.3465 - val_accuracy: 0.8605\n",
      "Epoch 28/50\n",
      "250/250 [==============================] - 0s 849us/step - loss: 0.3496 - accuracy: 0.8575 - val_loss: 0.3373 - val_accuracy: 0.8710\n",
      "Epoch 29/50\n",
      "250/250 [==============================] - 0s 1ms/step - loss: 0.3477 - accuracy: 0.8589 - val_loss: 0.3404 - val_accuracy: 0.8575\n",
      "Epoch 30/50\n",
      "250/250 [==============================] - 0s 1ms/step - loss: 0.3532 - accuracy: 0.8571 - val_loss: 0.3477 - val_accuracy: 0.8660\n",
      "Epoch 31/50\n",
      "250/250 [==============================] - 0s 1ms/step - loss: 0.3497 - accuracy: 0.8593 - val_loss: 0.3399 - val_accuracy: 0.8685\n",
      "Epoch 32/50\n",
      "250/250 [==============================] - 0s 1ms/step - loss: 0.3497 - accuracy: 0.8583 - val_loss: 0.3449 - val_accuracy: 0.8690\n",
      "Epoch 33/50\n",
      "250/250 [==============================] - 0s 842us/step - loss: 0.3471 - accuracy: 0.8605 - val_loss: 0.3495 - val_accuracy: 0.8695\n",
      "Epoch 34/50\n",
      "250/250 [==============================] - 0s 860us/step - loss: 0.3458 - accuracy: 0.8601 - val_loss: 0.3433 - val_accuracy: 0.8700\n",
      "Epoch 35/50\n",
      "250/250 [==============================] - 0s 862us/step - loss: 0.3452 - accuracy: 0.8590 - val_loss: 0.3551 - val_accuracy: 0.8675\n",
      "Epoch 36/50\n",
      "250/250 [==============================] - 0s 872us/step - loss: 0.3449 - accuracy: 0.8593 - val_loss: 0.3463 - val_accuracy: 0.8680\n",
      "Epoch 37/50\n",
      "250/250 [==============================] - 0s 767us/step - loss: 0.3435 - accuracy: 0.8601 - val_loss: 0.3613 - val_accuracy: 0.8650\n",
      "Epoch 38/50\n",
      "250/250 [==============================] - 0s 726us/step - loss: 0.3433 - accuracy: 0.8599 - val_loss: 0.3540 - val_accuracy: 0.8650\n",
      "Epoch 39/50\n",
      "250/250 [==============================] - 0s 777us/step - loss: 0.3430 - accuracy: 0.8610 - val_loss: 0.3407 - val_accuracy: 0.8675\n",
      "Epoch 40/50\n",
      "250/250 [==============================] - 0s 757us/step - loss: 0.3421 - accuracy: 0.8615 - val_loss: 0.3403 - val_accuracy: 0.8685\n",
      "Epoch 41/50\n",
      "250/250 [==============================] - 0s 1ms/step - loss: 0.3416 - accuracy: 0.8612 - val_loss: 0.3534 - val_accuracy: 0.8660\n",
      "Epoch 42/50\n",
      "250/250 [==============================] - 0s 802us/step - loss: 0.3414 - accuracy: 0.8626 - val_loss: 0.3398 - val_accuracy: 0.8680\n",
      "Epoch 43/50\n",
      "250/250 [==============================] - 0s 1ms/step - loss: 0.3406 - accuracy: 0.8624 - val_loss: 0.3527 - val_accuracy: 0.8660\n",
      "Epoch 44/50\n",
      "250/250 [==============================] - 0s 780us/step - loss: 0.3425 - accuracy: 0.8611 - val_loss: 0.3379 - val_accuracy: 0.8680\n",
      "Epoch 45/50\n",
      "250/250 [==============================] - 0s 824us/step - loss: 0.3402 - accuracy: 0.8618 - val_loss: 0.3399 - val_accuracy: 0.8665\n",
      "Epoch 46/50\n",
      "250/250 [==============================] - 0s 838us/step - loss: 0.3395 - accuracy: 0.8619 - val_loss: 0.3447 - val_accuracy: 0.8665\n",
      "Epoch 47/50\n",
      "250/250 [==============================] - 0s 832us/step - loss: 0.3395 - accuracy: 0.8627 - val_loss: 0.3368 - val_accuracy: 0.8670\n",
      "Epoch 48/50\n",
      "250/250 [==============================] - 0s 812us/step - loss: 0.3404 - accuracy: 0.8631 - val_loss: 0.3441 - val_accuracy: 0.8670\n",
      "Epoch 49/50\n",
      "250/250 [==============================] - 0s 867us/step - loss: 0.3388 - accuracy: 0.8640 - val_loss: 0.3505 - val_accuracy: 0.8660\n",
      "Epoch 50/50\n",
      "250/250 [==============================] - 0s 792us/step - loss: 0.3384 - accuracy: 0.8630 - val_loss: 0.3421 - val_accuracy: 0.8720\n"
     ]
    },
    {
     "data": {
      "text/plain": [
       "<keras.callbacks.History at 0x216b6125820>"
      ]
     },
     "execution_count": 31,
     "metadata": {},
     "output_type": "execute_result"
    }
   ],
   "source": [
    "ann.fit(X_train, y_train, batch_size = 32, validation_data = (X_test,y_test), epochs = 50)"
   ]
  },
  {
   "cell_type": "code",
   "execution_count": 32,
   "metadata": {},
   "outputs": [],
   "source": [
    "y_pred = ann.predict(X_test)"
   ]
  },
  {
   "cell_type": "code",
   "execution_count": 33,
   "metadata": {},
   "outputs": [],
   "source": [
    "y_pred = (y_pred > 0.5)"
   ]
  },
  {
   "cell_type": "code",
   "execution_count": 34,
   "metadata": {},
   "outputs": [
    {
     "data": {
      "text/plain": [
       "array([[False],\n",
       "       [False],\n",
       "       [False],\n",
       "       ...,\n",
       "       [False],\n",
       "       [ True],\n",
       "       [False]])"
      ]
     },
     "execution_count": 34,
     "metadata": {},
     "output_type": "execute_result"
    }
   ],
   "source": [
    "y_pred"
   ]
  },
  {
   "cell_type": "code",
   "execution_count": 35,
   "metadata": {},
   "outputs": [
    {
     "name": "stdout",
     "output_type": "stream",
     "text": [
      "63/63 [==============================] - 0s 581us/step - loss: 0.3421 - accuracy: 0.8720\n"
     ]
    },
    {
     "data": {
      "text/plain": [
       "[0.34211182594299316, 0.871999979019165]"
      ]
     },
     "execution_count": 35,
     "metadata": {},
     "output_type": "execute_result"
    }
   ],
   "source": [
    "ann.evaluate(X_test, y_test)"
   ]
  },
  {
   "cell_type": "code",
   "execution_count": 36,
   "metadata": {},
   "outputs": [],
   "source": [
    "from sklearn.metrics import confusion_matrix\n",
    "cm = confusion_matrix(y_test, y_pred)"
   ]
  },
  {
   "cell_type": "code",
   "execution_count": 37,
   "metadata": {},
   "outputs": [
    {
     "data": {
      "text/plain": [
       "array([[1542,   62],\n",
       "       [ 194,  202]], dtype=int64)"
      ]
     },
     "execution_count": 37,
     "metadata": {},
     "output_type": "execute_result"
    }
   ],
   "source": [
    "cm"
   ]
  },
  {
   "cell_type": "code",
   "execution_count": 38,
   "metadata": {},
   "outputs": [
    {
     "data": {
      "text/plain": [
       "RandomForestClassifier(n_estimators=1000)"
      ]
     },
     "execution_count": 38,
     "metadata": {},
     "output_type": "execute_result"
    }
   ],
   "source": [
    "from sklearn.ensemble import RandomForestClassifier\n",
    "clf = RandomForestClassifier(n_estimators=1000)\n",
    "clf.fit(X_train,y_train)"
   ]
  },
  {
   "cell_type": "code",
   "execution_count": 39,
   "metadata": {},
   "outputs": [
    {
     "data": {
      "text/plain": [
       "0.874"
      ]
     },
     "execution_count": 39,
     "metadata": {},
     "output_type": "execute_result"
    }
   ],
   "source": [
    "clf.score(X_test,y_test)"
   ]
  },
  {
   "cell_type": "code",
   "execution_count": 10,
   "metadata": {},
   "outputs": [],
   "source": [
    "from sklearn.decomposition import PCA\n",
    "pca = PCA(n_components=300)\n",
    "X = pca.fit_transform(X)\n"
   ]
  },
  {
   "cell_type": "code",
   "execution_count": 12,
   "metadata": {},
   "outputs": [
    {
     "data": {
      "text/plain": [
       "RandomForestClassifier(n_estimators=1000)"
      ]
     },
     "execution_count": 12,
     "metadata": {},
     "output_type": "execute_result"
    }
   ],
   "source": [
    "from sklearn.ensemble import RandomForestClassifier\n",
    "clf = RandomForestClassifier(n_estimators=1000)\n",
    "clf.fit(X_train,y_train)"
   ]
  },
  {
   "cell_type": "code",
   "execution_count": 13,
   "metadata": {},
   "outputs": [
    {
     "data": {
      "text/plain": [
       "(60000, 300)"
      ]
     },
     "execution_count": 13,
     "metadata": {},
     "output_type": "execute_result"
    }
   ],
   "source": [
    "X.shape"
   ]
  },
  {
   "cell_type": "code",
   "execution_count": 14,
   "metadata": {},
   "outputs": [
    {
     "data": {
      "text/plain": [
       "0.9428333333333333"
      ]
     },
     "execution_count": 14,
     "metadata": {},
     "output_type": "execute_result"
    }
   ],
   "source": [
    "clf.score(X_test,y_test)"
   ]
  },
  {
   "cell_type": "code",
   "execution_count": null,
   "metadata": {},
   "outputs": [],
   "source": []
  }
 ],
 "metadata": {
  "kernelspec": {
   "display_name": "Python 3",
   "language": "python",
   "name": "python3"
  },
  "language_info": {
   "codemirror_mode": {
    "name": "ipython",
    "version": 3
   },
   "file_extension": ".py",
   "mimetype": "text/x-python",
   "name": "python",
   "nbconvert_exporter": "python",
   "pygments_lexer": "ipython3",
   "version": "3.8.8"
  }
 },
 "nbformat": 4,
 "nbformat_minor": 4
}
