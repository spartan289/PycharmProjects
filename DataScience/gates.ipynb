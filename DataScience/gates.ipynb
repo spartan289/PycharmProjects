{
 "cells": [
  {
   "cell_type": "code",
   "execution_count": 1,
   "metadata": {
    "collapsed": true
   },
   "outputs": [],
   "source": [
    "import numpy as np"
   ]
  },
  {
   "cell_type": "code",
   "execution_count": 111,
   "outputs": [
    {
     "name": "stdout",
     "output_type": "stream",
     "text": [
      "[0] [0] [-1]\n"
     ]
    }
   ],
   "source": [
    "w1 = np.random.randint(-1,2,1)\n",
    "w2 = np.random.randint(-1,2,1)\n",
    "b = np.random.randint(-1,2,1)"
   ],
   "metadata": {
    "collapsed": false
   }
  },
  {
   "cell_type": "code",
   "execution_count": 112,
   "outputs": [],
   "source": [
    "def sgd(p,q):\n",
    "    z = p*w1+q*w2+b\n",
    "    return 1/(1+np.exp(-z))\n",
    "def sgdd(p,q):\n",
    "    z = p*w1+q*w2+b\n",
    "    return sgd(p,q)*(1-sgd(p,q))\n"
   ],
   "metadata": {
    "collapsed": false
   }
  },
  {
   "cell_type": "code",
   "execution_count": 113,
   "outputs": [
    {
     "name": "stdout",
     "output_type": "stream",
     "text": [
      "[-4.11621175] [2.66107379] [2.66107379]\n"
     ]
    }
   ],
   "source": [
    "\n",
    "k=0\n",
    "\n",
    "\n",
    "r=1\n",
    "err=[]\n",
    "while k<1000:\n",
    "    derb=0\n",
    "    derw1=0\n",
    "    derw2=0\n",
    "    error=0\n",
    "    for i in range(2):\n",
    "        for j in range(2):\n",
    "            derb += -((i & j)-sgd(i,j))*sgdd(i,j)\n",
    "            derw1 += -i*((i & j)-sgd(i,j))*sgdd(i,j)\n",
    "            derw2 +=  -j*((i & j)-sgd(i,j))*sgdd(i,j)\n",
    "            error += 0.5*(i*j-sgd(i,j))**2\n",
    "    b = b-0.1*derb\n",
    "    w1 = w1-0.1*derw1\n",
    "    w2 = w2-0.1*derw2\n",
    "    err.append(error)\n",
    "    k+=1\n",
    "print(b,w1,w2)\n"
   ],
   "metadata": {
    "collapsed": false
   }
  },
  {
   "cell_type": "code",
   "execution_count": 114,
   "outputs": [
    {
     "data": {
      "text/plain": "array([0.76957905])"
     },
     "execution_count": 114,
     "metadata": {},
     "output_type": "execute_result"
    }
   ],
   "source": [
    "sgd(1,1)"
   ],
   "metadata": {
    "collapsed": false
   }
  },
  {
   "cell_type": "code",
   "execution_count": 115,
   "outputs": [
    {
     "data": {
      "text/plain": "array([0.18921209])"
     },
     "execution_count": 115,
     "metadata": {},
     "output_type": "execute_result"
    }
   ],
   "source": [
    "sgd(1,0)\n"
   ],
   "metadata": {
    "collapsed": false
   }
  },
  {
   "cell_type": "code",
   "execution_count": 116,
   "outputs": [
    {
     "data": {
      "text/plain": "array([0.18921209])"
     },
     "execution_count": 116,
     "metadata": {},
     "output_type": "execute_result"
    }
   ],
   "source": [
    "sgd(0,1)"
   ],
   "metadata": {
    "collapsed": false
   }
  },
  {
   "cell_type": "code",
   "execution_count": 117,
   "outputs": [
    {
     "data": {
      "text/plain": "array([0.01604454])"
     },
     "execution_count": 117,
     "metadata": {},
     "output_type": "execute_result"
    }
   ],
   "source": [
    "sgd(0,0)"
   ],
   "metadata": {
    "collapsed": false
   }
  },
  {
   "cell_type": "code",
   "execution_count": 118,
   "outputs": [
    {
     "data": {
      "text/plain": "[<matplotlib.lines.Line2D at 0x1c0c756b190>]"
     },
     "execution_count": 118,
     "metadata": {},
     "output_type": "execute_result"
    },
    {
     "data": {
      "text/plain": "<Figure size 432x288 with 1 Axes>",
      "image/png": "[encoded data removed]"
     },
     "metadata": {
      "needs_background": "light"
     },
     "output_type": "display_data"
    }
   ],
   "source": [
    "import matplotlib.pyplot as plt\n",
    "plt.plot(err)"
   ],
   "metadata": {
    "collapsed": false
   }
  },
  {
   "cell_type": "markdown",
   "source": [],
   "metadata": {
    "collapsed": false
   }
  },
  {
   "cell_type": "code",
   "execution_count": 119,
   "outputs": [
    {
     "name": "stdout",
     "output_type": "stream",
     "text": [
      "[-1.95627055] [4.44874871] [4.44874871]\n"
     ]
    }
   ],
   "source": [
    "#or gate\n",
    "\n",
    "\n",
    "k=0\n",
    "\n",
    "\n",
    "r=1\n",
    "err=[]\n",
    "while k<1000:\n",
    "    derb=0\n",
    "    derw1=0\n",
    "    derw2=0\n",
    "    error=0\n",
    "    for i in range(2):\n",
    "        for j in range(2):\n",
    "            derb += -((i | j)-sgd(i,j))*sgdd(i,j)\n",
    "            derw1 += -i*((i | j)-sgd(i,j))*sgdd(i,j)\n",
    "            derw2 +=  -j*((i | j)-sgd(i,j))*sgdd(i,j)\n",
    "            error += 0.5*((i|j)-sgd(i,j))**2\n",
    "    b = b-0.1*derb\n",
    "    w1 = w1-0.1*derw1\n",
    "    w2 = w2-0.1*derw2\n",
    "    err.append(error)\n",
    "    k+=1\n",
    "print(b,w1,w2)"
   ],
   "metadata": {
    "collapsed": false
   }
  },
  {
   "cell_type": "code",
   "execution_count": 120,
   "outputs": [
    {
     "data": {
      "text/plain": "[<matplotlib.lines.Line2D at 0x1c0c7589e80>]"
     },
     "execution_count": 120,
     "metadata": {},
     "output_type": "execute_result"
    },
    {
     "data": {
      "text/plain": "<Figure size 432x288 with 1 Axes>",
      "image/png": "[encoded data removed]"
     },
     "metadata": {
      "needs_background": "light"
     },
     "output_type": "display_data"
    }
   ],
   "source": [
    "plt.plot(err)\n"
   ],
   "metadata": {
    "collapsed": false
   }
  },
  {
   "cell_type": "code",
   "execution_count": 121,
   "outputs": [
    {
     "data": {
      "text/plain": "array([0.99903385])"
     },
     "execution_count": 121,
     "metadata": {},
     "output_type": "execute_result"
    }
   ],
   "source": [
    "sgd(1,1)"
   ],
   "metadata": {
    "collapsed": false
   }
  },
  {
   "cell_type": "code",
   "execution_count": 122,
   "outputs": [
    {
     "data": {
      "text/plain": "array([0.92361283])"
     },
     "execution_count": 122,
     "metadata": {},
     "output_type": "execute_result"
    }
   ],
   "source": [
    "sgd(0,1)"
   ],
   "metadata": {
    "collapsed": false
   }
  },
  {
   "cell_type": "code",
   "execution_count": 123,
   "outputs": [
    {
     "data": {
      "text/plain": "array([0.99903385])"
     },
     "execution_count": 123,
     "metadata": {},
     "output_type": "execute_result"
    }
   ],
   "source": [
    "sgd(1,1)"
   ],
   "metadata": {
    "collapsed": false
   }
  },
  {
   "cell_type": "code",
   "execution_count": 124,
   "outputs": [
    {
     "data": {
      "text/plain": "array([0.12387123])"
     },
     "execution_count": 124,
     "metadata": {},
     "output_type": "execute_result"
    }
   ],
   "source": [
    "sgd(0,0)"
   ],
   "metadata": {
    "collapsed": false
   }
  },
  {
   "cell_type": "code",
   "execution_count": null,
   "outputs": [],
   "source": [],
   "metadata": {
    "collapsed": false
   }
  }
 ],
 "metadata": {
  "kernelspec": {
   "display_name": "Python 3",
   "language": "python",
   "name": "python3"
  },
  "language_info": {
   "codemirror_mode": {
    "name": "ipython",
    "version": 2
   },
   "file_extension": ".py",
   "mimetype": "text/x-python",
   "name": "python",
   "nbconvert_exporter": "python",
   "pygments_lexer": "ipython2",
   "version": "2.7.6"
  }
 },
 "nbformat": 4,
 "nbformat_minor": 0
}
