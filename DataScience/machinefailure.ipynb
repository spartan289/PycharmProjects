{
 "cells": [
  {
   "cell_type": "code",
   "execution_count": 1,
   "metadata": {
    "collapsed": true
   },
   "outputs": [],
   "source": [
    "import numpy as np\n",
    "import pandas as pd\n"
   ]
  },
  {
   "cell_type": "code",
   "execution_count": 3,
   "outputs": [],
   "source": [
    "df = pd.read_csv('MachineFailure/train.csv')"
   ],
   "metadata": {
    "collapsed": false
   }
  },
  {
   "cell_type": "code",
   "execution_count": 4,
   "outputs": [
    {
     "data": {
      "text/plain": "id                         0\nProduct ID                 0\nType                       0\nAir temperature [K]        0\nProcess temperature [K]    0\nRotational speed [rpm]     0\nTorque [Nm]                0\nTool wear [min]            0\nMachine failure            0\nTWF                        0\nHDF                        0\nPWF                        0\nOSF                        0\nRNF                        0\ndtype: int64"
     },
     "execution_count": 4,
     "metadata": {},
     "output_type": "execute_result"
    }
   ],
   "source": [
    "df.isna().sum()"
   ],
   "metadata": {
    "collapsed": false
   }
  },
  {
   "cell_type": "code",
   "execution_count": 5,
   "outputs": [
    {
     "data": {
      "text/plain": "   id Product ID Type  Air temperature [K]  Process temperature [K]  \\\n0   0     L50096    L                300.6                    309.6   \n1   1     M20343    M                302.6                    312.1   \n2   2     L49454    L                299.3                    308.5   \n3   3     L53355    L                301.0                    310.9   \n4   4     M24050    M                298.0                    309.0   \n\n   Rotational speed [rpm]  Torque [Nm]  Tool wear [min]  Machine failure  TWF  \\\n0                    1596         36.1              140                0    0   \n1                    1759         29.1              200                0    0   \n2                    1805         26.5               25                0    0   \n3                    1524         44.3              197                0    0   \n4                    1641         35.4               34                0    0   \n\n   HDF  PWF  OSF  RNF  \n0    0    0    0    0  \n1    0    0    0    0  \n2    0    0    0    0  \n3    0    0    0    0  \n4    0    0    0    0  ",
      "text/html": "<div>\n<style scoped>\n    .dataframe tbody tr th:only-of-type {\n        vertical-align: middle;\n    }\n\n    .dataframe tbody tr th {\n        vertical-align: top;\n    }\n\n    .dataframe thead th {\n        text-align: right;\n    }\n</style>\n<table border=\"1\" class=\"dataframe\">\n  <thead>\n    <tr style=\"text-align: right;\">\n      <th></th>\n      <th>id</th>\n      <th>Product ID</th>\n      <th>Type</th>\n      <th>Air temperature [K]</th>\n      <th>Process temperature [K]</th>\n      <th>Rotational speed [rpm]</th>\n      <th>Torque [Nm]</th>\n      <th>Tool wear [min]</th>\n      <th>Machine failure</th>\n      <th>TWF</th>\n      <th>HDF</th>\n      <th>PWF</th>\n      <th>OSF</th>\n      <th>RNF</th>\n    </tr>\n  </thead>\n  <tbody>\n    <tr>\n      <th>0</th>\n      <td>0</td>\n      <td>L50096</td>\n      <td>L</td>\n      <td>300.6</td>\n      <td>309.6</td>\n      <td>1596</td>\n      <td>36.1</td>\n      <td>140</td>\n      <td>0</td>\n      <td>0</td>\n      <td>0</td>\n      <td>0</td>\n      <td>0</td>\n      <td>0</td>\n    </tr>\n    <tr>\n      <th>1</th>\n      <td>1</td>\n      <td>M20343</td>\n      <td>M</td>\n      <td>302.6</td>\n      <td>312.1</td>\n      <td>1759</td>\n      <td>29.1</td>\n      <td>200</td>\n      <td>0</td>\n      <td>0</td>\n      <td>0</td>\n      <td>0</td>\n      <td>0</td>\n      <td>0</td>\n    </tr>\n    <tr>\n      <th>2</th>\n      <td>2</td>\n      <td>L49454</td>\n      <td>L</td>\n      <td>299.3</td>\n      <td>308.5</td>\n      <td>1805</td>\n      <td>26.5</td>\n      <td>25</td>\n      <td>0</td>\n      <td>0</td>\n      <td>0</td>\n      <td>0</td>\n      <td>0</td>\n      <td>0</td>\n    </tr>\n    <tr>\n      <th>3</th>\n      <td>3</td>\n      <td>L53355</td>\n      <td>L</td>\n      <td>301.0</td>\n      <td>310.9</td>\n      <td>1524</td>\n      <td>44.3</td>\n      <td>197</td>\n      <td>0</td>\n      <td>0</td>\n      <td>0</td>\n      <td>0</td>\n      <td>0</td>\n      <td>0</td>\n    </tr>\n    <tr>\n      <th>4</th>\n      <td>4</td>\n      <td>M24050</td>\n      <td>M</td>\n      <td>298.0</td>\n      <td>309.0</td>\n      <td>1641</td>\n      <td>35.4</td>\n      <td>34</td>\n      <td>0</td>\n      <td>0</td>\n      <td>0</td>\n      <td>0</td>\n      <td>0</td>\n      <td>0</td>\n    </tr>\n  </tbody>\n</table>\n</div>"
     },
     "execution_count": 5,
     "metadata": {},
     "output_type": "execute_result"
    }
   ],
   "source": [
    "df.head()"
   ],
   "metadata": {
    "collapsed": false
   }
  },
  {
   "cell_type": "code",
   "execution_count": 6,
   "outputs": [],
   "source": [
    "X = df.drop(columns=[\"id\",\"Product ID\",\"Machine failure\"])\n"
   ],
   "metadata": {
    "collapsed": false
   }
  },
  {
   "cell_type": "code",
   "execution_count": 8,
   "outputs": [],
   "source": [
    "X = pd.get_dummies(X,columns=[\"Type\"])"
   ],
   "metadata": {
    "collapsed": false
   }
  },
  {
   "cell_type": "code",
   "execution_count": 9,
   "outputs": [
    {
     "data": {
      "text/plain": "   Air temperature [K]  Process temperature [K]  Rotational speed [rpm]  \\\n0                300.6                    309.6                    1596   \n1                302.6                    312.1                    1759   \n2                299.3                    308.5                    1805   \n3                301.0                    310.9                    1524   \n4                298.0                    309.0                    1641   \n\n   Torque [Nm]  Tool wear [min]  TWF  HDF  PWF  OSF  RNF  Type_H  Type_L  \\\n0         36.1              140    0    0    0    0    0       0       1   \n1         29.1              200    0    0    0    0    0       0       0   \n2         26.5               25    0    0    0    0    0       0       1   \n3         44.3              197    0    0    0    0    0       0       1   \n4         35.4               34    0    0    0    0    0       0       0   \n\n   Type_M  \n0       0  \n1       1  \n2       0  \n3       0  \n4       1  ",
      "text/html": "<div>\n<style scoped>\n    .dataframe tbody tr th:only-of-type {\n        vertical-align: middle;\n    }\n\n    .dataframe tbody tr th {\n        vertical-align: top;\n    }\n\n    .dataframe thead th {\n        text-align: right;\n    }\n</style>\n<table border=\"1\" class=\"dataframe\">\n  <thead>\n    <tr style=\"text-align: right;\">\n      <th></th>\n      <th>Air temperature [K]</th>\n      <th>Process temperature [K]</th>\n      <th>Rotational speed [rpm]</th>\n      <th>Torque [Nm]</th>\n      <th>Tool wear [min]</th>\n      <th>TWF</th>\n      <th>HDF</th>\n      <th>PWF</th>\n      <th>OSF</th>\n      <th>RNF</th>\n      <th>Type_H</th>\n      <th>Type_L</th>\n      <th>Type_M</th>\n    </tr>\n  </thead>\n  <tbody>\n    <tr>\n      <th>0</th>\n      <td>300.6</td>\n      <td>309.6</td>\n      <td>1596</td>\n      <td>36.1</td>\n      <td>140</td>\n      <td>0</td>\n      <td>0</td>\n      <td>0</td>\n      <td>0</td>\n      <td>0</td>\n      <td>0</td>\n      <td>1</td>\n      <td>0</td>\n    </tr>\n    <tr>\n      <th>1</th>\n      <td>302.6</td>\n      <td>312.1</td>\n      <td>1759</td>\n      <td>29.1</td>\n      <td>200</td>\n      <td>0</td>\n      <td>0</td>\n      <td>0</td>\n      <td>0</td>\n      <td>0</td>\n      <td>0</td>\n      <td>0</td>\n      <td>1</td>\n    </tr>\n    <tr>\n      <th>2</th>\n      <td>299.3</td>\n      <td>308.5</td>\n      <td>1805</td>\n      <td>26.5</td>\n      <td>25</td>\n      <td>0</td>\n      <td>0</td>\n      <td>0</td>\n      <td>0</td>\n      <td>0</td>\n      <td>0</td>\n      <td>1</td>\n      <td>0</td>\n    </tr>\n    <tr>\n      <th>3</th>\n      <td>301.0</td>\n      <td>310.9</td>\n      <td>1524</td>\n      <td>44.3</td>\n      <td>197</td>\n      <td>0</td>\n      <td>0</td>\n      <td>0</td>\n      <td>0</td>\n      <td>0</td>\n      <td>0</td>\n      <td>1</td>\n      <td>0</td>\n    </tr>\n    <tr>\n      <th>4</th>\n      <td>298.0</td>\n      <td>309.0</td>\n      <td>1641</td>\n      <td>35.4</td>\n      <td>34</td>\n      <td>0</td>\n      <td>0</td>\n      <td>0</td>\n      <td>0</td>\n      <td>0</td>\n      <td>0</td>\n      <td>0</td>\n      <td>1</td>\n    </tr>\n  </tbody>\n</table>\n</div>"
     },
     "execution_count": 9,
     "metadata": {},
     "output_type": "execute_result"
    }
   ],
   "source": [
    "X.head()"
   ],
   "metadata": {
    "collapsed": false
   }
  },
  {
   "cell_type": "code",
   "execution_count": 10,
   "outputs": [],
   "source": [
    "y = df[\"Machine failure\"]"
   ],
   "metadata": {
    "collapsed": false
   }
  },
  {
   "cell_type": "code",
   "execution_count": 11,
   "outputs": [
    {
     "data": {
      "text/plain": "(136429, 13)"
     },
     "execution_count": 11,
     "metadata": {},
     "output_type": "execute_result"
    }
   ],
   "source": [
    "X.shape"
   ],
   "metadata": {
    "collapsed": false
   }
  },
  {
   "cell_type": "code",
   "execution_count": 15,
   "outputs": [],
   "source": [
    "y.shape\n",
    "from sklearn.preprocessing import StandardScaler\n",
    "sc = StandardScaler()\n",
    "X = sc.fit_transform(X)"
   ],
   "metadata": {
    "collapsed": false
   }
  },
  {
   "cell_type": "code",
   "execution_count": 16,
   "outputs": [],
   "source": [
    "from sklearn.model_selection import train_test_split\n",
    "\n",
    "X_train, X_test, y_train, y_test = train_test_split(X,y,test_size=0.2,random_state=4)"
   ],
   "metadata": {
    "collapsed": false
   }
  },
  {
   "cell_type": "code",
   "execution_count": 18,
   "outputs": [],
   "source": [
    "from keras.utils import np_utils\n",
    "X_train = X_train.astype('float32')\n",
    "X_test = X_test.astype('float32')\n"
   ],
   "metadata": {
    "collapsed": false
   }
  },
  {
   "cell_type": "markdown",
   "source": [],
   "metadata": {
    "collapsed": false
   }
  },
  {
   "cell_type": "code",
   "execution_count": 22,
   "outputs": [],
   "source": [
    "Y_train = np_utils.to_categorical(y_train, 2)\n",
    "Y_test = np_utils.to_categorical(y_test, 2)\n"
   ],
   "metadata": {
    "collapsed": false
   }
  },
  {
   "cell_type": "code",
   "execution_count": 23,
   "outputs": [],
   "source": [
    "from keras.models import Sequential\n",
    "from keras.layers import Dense"
   ],
   "metadata": {
    "collapsed": false
   }
  },
  {
   "cell_type": "code",
   "execution_count": 24,
   "outputs": [],
   "source": [
    "ann = Sequential()\n",
    "ann.add(Dense(units=13, activation='relu'))\n",
    "\n",
    "# Adding the second hidden layer\n",
    "ann.add(Dense(units=6, activation='relu'))\n",
    "\n",
    "# Adding the output layer\n",
    "ann.add(Dense(units=1, activation='softplus'))\n",
    "# Part 3 - Training the ANN\n",
    "\n",
    "# Compiling the ANN\n",
    "import tensorflow as tf\n",
    "opt = tf.keras.optimizers.Adam()\n",
    "#opt = tf.train.experimental.enable_mixed_precision_graph_rewrite(opt)\n",
    "\n",
    "ann.compile(loss=\"binary_crossentropy\",\n",
    "              optimizer=opt,\n",
    "              metrics=[\"accuracy\"])"
   ],
   "metadata": {
    "collapsed": false
   }
  },
  {
   "cell_type": "code",
   "execution_count": 25,
   "outputs": [
    {
     "name": "stdout",
     "output_type": "stream",
     "text": [
      "Epoch 1/50\n",
      "3411/3411 [==============================] - 7s 2ms/step - loss: 0.2307 - accuracy: 0.9513 - val_loss: 0.0275 - val_accuracy: 0.9963\n",
      "Epoch 2/50\n",
      "3411/3411 [==============================] - 7s 2ms/step - loss: 0.0253 - accuracy: 0.9961 - val_loss: 0.0256 - val_accuracy: 0.9963\n",
      "Epoch 3/50\n",
      "3411/3411 [==============================] - 6s 2ms/step - loss: 0.0244 - accuracy: 0.9961 - val_loss: 0.0246 - val_accuracy: 0.9963\n",
      "Epoch 4/50\n",
      "3411/3411 [==============================] - 6s 2ms/step - loss: 0.0236 - accuracy: 0.9961 - val_loss: 0.0242 - val_accuracy: 0.9963\n",
      "Epoch 5/50\n",
      "3411/3411 [==============================] - 6s 2ms/step - loss: 0.0232 - accuracy: 0.9961 - val_loss: 0.0238 - val_accuracy: 0.9963\n",
      "Epoch 6/50\n",
      "3411/3411 [==============================] - 8s 2ms/step - loss: 0.0229 - accuracy: 0.9961 - val_loss: 0.0260 - val_accuracy: 0.9962\n",
      "Epoch 7/50\n",
      "3411/3411 [==============================] - 8s 2ms/step - loss: 0.0230 - accuracy: 0.9961 - val_loss: 0.0235 - val_accuracy: 0.9963\n",
      "Epoch 8/50\n",
      "3411/3411 [==============================] - 7s 2ms/step - loss: 0.0230 - accuracy: 0.9961 - val_loss: 0.0237 - val_accuracy: 0.9963\n",
      "Epoch 9/50\n",
      "3411/3411 [==============================] - 6s 2ms/step - loss: 0.0225 - accuracy: 0.9961 - val_loss: 0.0234 - val_accuracy: 0.9963\n",
      "Epoch 10/50\n",
      "3411/3411 [==============================] - 6s 2ms/step - loss: 0.0226 - accuracy: 0.9961 - val_loss: 0.0234 - val_accuracy: 0.9963\n",
      "Epoch 11/50\n",
      "3411/3411 [==============================] - 6s 2ms/step - loss: 0.0225 - accuracy: 0.9961 - val_loss: 0.0236 - val_accuracy: 0.9963\n",
      "Epoch 12/50\n",
      "3411/3411 [==============================] - 6s 2ms/step - loss: 0.0230 - accuracy: 0.9961 - val_loss: 0.0248 - val_accuracy: 0.9963\n",
      "Epoch 13/50\n",
      "3411/3411 [==============================] - 6s 2ms/step - loss: 0.0228 - accuracy: 0.9961 - val_loss: 0.0236 - val_accuracy: 0.9963\n",
      "Epoch 14/50\n",
      "3411/3411 [==============================] - 6s 2ms/step - loss: 0.0223 - accuracy: 0.9961 - val_loss: 0.0232 - val_accuracy: 0.9963\n",
      "Epoch 15/50\n",
      "3411/3411 [==============================] - 5s 2ms/step - loss: 0.0227 - accuracy: 0.9961 - val_loss: 0.0236 - val_accuracy: 0.9963\n",
      "Epoch 16/50\n",
      "3411/3411 [==============================] - 6s 2ms/step - loss: 0.0223 - accuracy: 0.9961 - val_loss: 0.0231 - val_accuracy: 0.9963\n",
      "Epoch 17/50\n",
      "3411/3411 [==============================] - 6s 2ms/step - loss: 0.0222 - accuracy: 0.9962 - val_loss: 0.0233 - val_accuracy: 0.9964\n",
      "Epoch 18/50\n",
      "3411/3411 [==============================] - 6s 2ms/step - loss: 0.0224 - accuracy: 0.9961 - val_loss: 0.0230 - val_accuracy: 0.9964\n",
      "Epoch 19/50\n",
      "3411/3411 [==============================] - 6s 2ms/step - loss: 0.0225 - accuracy: 0.9961 - val_loss: 0.0230 - val_accuracy: 0.9963\n",
      "Epoch 20/50\n",
      "3411/3411 [==============================] - 6s 2ms/step - loss: 0.0224 - accuracy: 0.9961 - val_loss: 0.0231 - val_accuracy: 0.9964\n",
      "Epoch 21/50\n",
      "3411/3411 [==============================] - 6s 2ms/step - loss: 0.0224 - accuracy: 0.9961 - val_loss: 0.0228 - val_accuracy: 0.9963\n",
      "Epoch 22/50\n",
      "3411/3411 [==============================] - 6s 2ms/step - loss: 0.0223 - accuracy: 0.9961 - val_loss: 0.0234 - val_accuracy: 0.9963\n",
      "Epoch 23/50\n",
      "3411/3411 [==============================] - 6s 2ms/step - loss: 0.0224 - accuracy: 0.9961 - val_loss: 0.0235 - val_accuracy: 0.9963\n",
      "Epoch 24/50\n",
      "3411/3411 [==============================] - 6s 2ms/step - loss: 0.0218 - accuracy: 0.9961 - val_loss: 0.0229 - val_accuracy: 0.9963\n",
      "Epoch 25/50\n",
      "3411/3411 [==============================] - 6s 2ms/step - loss: 0.0223 - accuracy: 0.9961 - val_loss: 0.0233 - val_accuracy: 0.9963\n",
      "Epoch 26/50\n",
      "3411/3411 [==============================] - 6s 2ms/step - loss: 0.0218 - accuracy: 0.9961 - val_loss: 0.0233 - val_accuracy: 0.9963\n",
      "Epoch 27/50\n",
      "3411/3411 [==============================] - 6s 2ms/step - loss: 0.0225 - accuracy: 0.9961 - val_loss: 0.0231 - val_accuracy: 0.9963\n",
      "Epoch 28/50\n",
      "3411/3411 [==============================] - 6s 2ms/step - loss: 0.0222 - accuracy: 0.9961 - val_loss: 0.0230 - val_accuracy: 0.9964\n",
      "Epoch 29/50\n",
      "3411/3411 [==============================] - 5s 2ms/step - loss: 0.0220 - accuracy: 0.9961 - val_loss: 0.0241 - val_accuracy: 0.9963\n",
      "Epoch 30/50\n",
      "3411/3411 [==============================] - 5s 2ms/step - loss: 0.0223 - accuracy: 0.9961 - val_loss: 0.0240 - val_accuracy: 0.9963\n",
      "Epoch 31/50\n",
      "3411/3411 [==============================] - 5s 2ms/step - loss: 0.0220 - accuracy: 0.9961 - val_loss: 0.0227 - val_accuracy: 0.9964\n",
      "Epoch 32/50\n",
      "3411/3411 [==============================] - 6s 2ms/step - loss: 0.0218 - accuracy: 0.9961 - val_loss: 0.0235 - val_accuracy: 0.9963\n",
      "Epoch 33/50\n",
      "3411/3411 [==============================] - 6s 2ms/step - loss: 0.0220 - accuracy: 0.9961 - val_loss: 0.0229 - val_accuracy: 0.9964\n",
      "Epoch 34/50\n",
      "3411/3411 [==============================] - 6s 2ms/step - loss: 0.0217 - accuracy: 0.9961 - val_loss: 0.0230 - val_accuracy: 0.9964\n",
      "Epoch 35/50\n",
      "3411/3411 [==============================] - 6s 2ms/step - loss: 0.0218 - accuracy: 0.9961 - val_loss: 0.0227 - val_accuracy: 0.9963\n",
      "Epoch 36/50\n",
      "3411/3411 [==============================] - 6s 2ms/step - loss: 0.0221 - accuracy: 0.9961 - val_loss: 0.0228 - val_accuracy: 0.9963\n",
      "Epoch 37/50\n",
      "3411/3411 [==============================] - 6s 2ms/step - loss: 0.0220 - accuracy: 0.9961 - val_loss: 0.0228 - val_accuracy: 0.9964\n",
      "Epoch 38/50\n",
      "3411/3411 [==============================] - 6s 2ms/step - loss: 0.0221 - accuracy: 0.9961 - val_loss: 0.0227 - val_accuracy: 0.9963\n",
      "Epoch 39/50\n",
      "3411/3411 [==============================] - 6s 2ms/step - loss: 0.0216 - accuracy: 0.9962 - val_loss: 0.0236 - val_accuracy: 0.9963\n",
      "Epoch 40/50\n",
      "3411/3411 [==============================] - 6s 2ms/step - loss: 0.0222 - accuracy: 0.9961 - val_loss: 0.0227 - val_accuracy: 0.9963\n",
      "Epoch 41/50\n",
      "3411/3411 [==============================] - 6s 2ms/step - loss: 0.0218 - accuracy: 0.9961 - val_loss: 0.0228 - val_accuracy: 0.9963\n",
      "Epoch 42/50\n",
      "3411/3411 [==============================] - 6s 2ms/step - loss: 0.0217 - accuracy: 0.9961 - val_loss: 0.0227 - val_accuracy: 0.9964\n",
      "Epoch 43/50\n",
      "3411/3411 [==============================] - 6s 2ms/step - loss: 0.0220 - accuracy: 0.9961 - val_loss: 0.0228 - val_accuracy: 0.9964\n",
      "Epoch 44/50\n",
      "3411/3411 [==============================] - 6s 2ms/step - loss: 0.0218 - accuracy: 0.9961 - val_loss: 0.0229 - val_accuracy: 0.9964\n",
      "Epoch 45/50\n",
      "3411/3411 [==============================] - 6s 2ms/step - loss: 0.0219 - accuracy: 0.9961 - val_loss: 0.0226 - val_accuracy: 0.9963\n",
      "Epoch 46/50\n",
      "3411/3411 [==============================] - 6s 2ms/step - loss: 0.0217 - accuracy: 0.9961 - val_loss: 0.0228 - val_accuracy: 0.9964\n",
      "Epoch 47/50\n",
      "3411/3411 [==============================] - 6s 2ms/step - loss: 0.0219 - accuracy: 0.9961 - val_loss: 0.0246 - val_accuracy: 0.9963\n",
      "Epoch 48/50\n",
      "3411/3411 [==============================] - 5s 2ms/step - loss: 0.0217 - accuracy: 0.9961 - val_loss: 0.0228 - val_accuracy: 0.9963\n",
      "Epoch 49/50\n",
      "3411/3411 [==============================] - 6s 2ms/step - loss: 0.0222 - accuracy: 0.9961 - val_loss: 0.0231 - val_accuracy: 0.9963\n",
      "Epoch 50/50\n",
      "3411/3411 [==============================] - 6s 2ms/step - loss: 0.0218 - accuracy: 0.9962 - val_loss: 0.0231 - val_accuracy: 0.9963\n"
     ]
    },
    {
     "data": {
      "text/plain": "<keras.callbacks.History at 0x1bf6f45a9d0>"
     },
     "execution_count": 25,
     "metadata": {},
     "output_type": "execute_result"
    }
   ],
   "source": [
    "ann.fit(X_train, y_train, batch_size = 32, validation_data = (X_test,y_test), epochs = 50)\n"
   ],
   "metadata": {
    "collapsed": false
   }
  },
  {
   "cell_type": "code",
   "execution_count": 30,
   "outputs": [],
   "source": [
    "test = pd.read_csv('MachineFailure/test.csv')\n",
    "test = test.drop(columns = [\"id\",\"Product ID\"])\n",
    "test = pd.get_dummies(test,columns=[\"Type\"])\n",
    "from sklearn.preprocessing import StandardScaler\n",
    "\n",
    "sc = StandardScaler()\n",
    "test = sc.fit_transform(test)\n",
    "from keras.utils import np_utils\n",
    "test = test.astype('float32')\n",
    "\n"
   ],
   "metadata": {
    "collapsed": false
   }
  },
  {
   "cell_type": "code",
   "execution_count": 32,
   "outputs": [
    {
     "name": "stdout",
     "output_type": "stream",
     "text": [
      "2843/2843 [==============================] - 3s 983us/step\n"
     ]
    }
   ],
   "source": [
    "ypred = ann.predict(test)"
   ],
   "metadata": {
    "collapsed": false
   }
  },
  {
   "cell_type": "code",
   "execution_count": null,
   "outputs": [],
   "source": [],
   "metadata": {
    "collapsed": false
   }
  }
 ],
 "metadata": {
  "kernelspec": {
   "display_name": "Python 3",
   "language": "python",
   "name": "python3"
  },
  "language_info": {
   "codemirror_mode": {
    "name": "ipython",
    "version": 2
   },
   "file_extension": ".py",
   "mimetype": "text/x-python",
   "name": "python",
   "nbconvert_exporter": "python",
   "pygments_lexer": "ipython2",
   "version": "2.7.6"
  }
 },
 "nbformat": 4,
 "nbformat_minor": 0
}
