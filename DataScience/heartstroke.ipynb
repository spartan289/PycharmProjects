{
 "cells": [
  {
   "cell_type": "code",
   "execution_count": 1,
   "metadata": {
    "collapsed": true
   },
   "outputs": [],
   "source": [
    "import pandas as pd\n",
    "import numpy as np\n",
    "import matplotlib.pyplot as plt"
   ]
  },
  {
   "cell_type": "code",
   "execution_count": 155,
   "outputs": [],
   "source": [
    "df = pd.read_csv('train.csv')"
   ],
   "metadata": {
    "collapsed": false
   }
  },
  {
   "cell_type": "code",
   "execution_count": 156,
   "outputs": [
    {
     "data": {
      "text/plain": "   id  gender   age  hypertension  heart_disease ever_married work_type  \\\n0   0    Male  28.0             0              0          Yes   Private   \n1   1    Male  33.0             0              0          Yes   Private   \n2   2  Female  42.0             0              0          Yes   Private   \n3   3    Male  56.0             0              0          Yes   Private   \n4   4  Female  24.0             0              0           No   Private   \n\n  Residence_type  avg_glucose_level   bmi   smoking_status  stroke  \n0          Urban              79.53  31.1     never smoked       0  \n1          Rural              78.44  23.9  formerly smoked       0  \n2          Rural             103.00  40.3          Unknown       0  \n3          Urban              64.87  28.8     never smoked       0  \n4          Rural              73.36  28.8     never smoked       0  ",
      "text/html": "<div>\n<style scoped>\n    .dataframe tbody tr th:only-of-type {\n        vertical-align: middle;\n    }\n\n    .dataframe tbody tr th {\n        vertical-align: top;\n    }\n\n    .dataframe thead th {\n        text-align: right;\n    }\n</style>\n<table border=\"1\" class=\"dataframe\">\n  <thead>\n    <tr style=\"text-align: right;\">\n      <th></th>\n      <th>id</th>\n      <th>gender</th>\n      <th>age</th>\n      <th>hypertension</th>\n      <th>heart_disease</th>\n      <th>ever_married</th>\n      <th>work_type</th>\n      <th>Residence_type</th>\n      <th>avg_glucose_level</th>\n      <th>bmi</th>\n      <th>smoking_status</th>\n      <th>stroke</th>\n    </tr>\n  </thead>\n  <tbody>\n    <tr>\n      <th>0</th>\n      <td>0</td>\n      <td>Male</td>\n      <td>28.0</td>\n      <td>0</td>\n      <td>0</td>\n      <td>Yes</td>\n      <td>Private</td>\n      <td>Urban</td>\n      <td>79.53</td>\n      <td>31.1</td>\n      <td>never smoked</td>\n      <td>0</td>\n    </tr>\n    <tr>\n      <th>1</th>\n      <td>1</td>\n      <td>Male</td>\n      <td>33.0</td>\n      <td>0</td>\n      <td>0</td>\n      <td>Yes</td>\n      <td>Private</td>\n      <td>Rural</td>\n      <td>78.44</td>\n      <td>23.9</td>\n      <td>formerly smoked</td>\n      <td>0</td>\n    </tr>\n    <tr>\n      <th>2</th>\n      <td>2</td>\n      <td>Female</td>\n      <td>42.0</td>\n      <td>0</td>\n      <td>0</td>\n      <td>Yes</td>\n      <td>Private</td>\n      <td>Rural</td>\n      <td>103.00</td>\n      <td>40.3</td>\n      <td>Unknown</td>\n      <td>0</td>\n    </tr>\n    <tr>\n      <th>3</th>\n      <td>3</td>\n      <td>Male</td>\n      <td>56.0</td>\n      <td>0</td>\n      <td>0</td>\n      <td>Yes</td>\n      <td>Private</td>\n      <td>Urban</td>\n      <td>64.87</td>\n      <td>28.8</td>\n      <td>never smoked</td>\n      <td>0</td>\n    </tr>\n    <tr>\n      <th>4</th>\n      <td>4</td>\n      <td>Female</td>\n      <td>24.0</td>\n      <td>0</td>\n      <td>0</td>\n      <td>No</td>\n      <td>Private</td>\n      <td>Rural</td>\n      <td>73.36</td>\n      <td>28.8</td>\n      <td>never smoked</td>\n      <td>0</td>\n    </tr>\n  </tbody>\n</table>\n</div>"
     },
     "execution_count": 156,
     "metadata": {},
     "output_type": "execute_result"
    }
   ],
   "source": [
    "df.head()"
   ],
   "metadata": {
    "collapsed": false
   }
  },
  {
   "cell_type": "code",
   "execution_count": 157,
   "outputs": [],
   "source": [
    "df[\"risk_factors\"] = df[[\n",
    "        \"avg_glucose_level\", \"age\", \"bmi\",\n",
    "        \"hypertension\", \"heart_disease\",\n",
    "        \"smoking_status\"\n",
    "    ]].apply(\n",
    "        lambda x: \\\n",
    "        0 + (1 if x.avg_glucose_level > 99 else 0) + \\\n",
    "        (1 if x.age > 45 else 0) + (1 if x.bmi > 24.99 else 0) + \\\n",
    "        (1 if x.hypertension == 1 else 0) + \\\n",
    "        (1 if x.heart_disease == 1 else 0) + \\\n",
    "        (1 if x.smoking_status in [\"formerly smoked\", \"smokes\"] else 0),\n",
    "        axis=1\n",
    "    )\n",
    "\n"
   ],
   "metadata": {
    "collapsed": false
   }
  },
  {
   "cell_type": "code",
   "execution_count": 158,
   "outputs": [
    {
     "data": {
      "text/plain": "   id  gender   age  hypertension  heart_disease ever_married work_type  \\\n0   0    Male  28.0             0              0          Yes   Private   \n1   1    Male  33.0             0              0          Yes   Private   \n2   2  Female  42.0             0              0          Yes   Private   \n3   3    Male  56.0             0              0          Yes   Private   \n4   4  Female  24.0             0              0           No   Private   \n\n  Residence_type  avg_glucose_level   bmi   smoking_status  stroke  \\\n0          Urban              79.53  31.1     never smoked       0   \n1          Rural              78.44  23.9  formerly smoked       0   \n2          Rural             103.00  40.3          Unknown       0   \n3          Urban              64.87  28.8     never smoked       0   \n4          Rural              73.36  28.8     never smoked       0   \n\n   risk_factors  \n0             1  \n1             1  \n2             2  \n3             2  \n4             1  ",
      "text/html": "<div>\n<style scoped>\n    .dataframe tbody tr th:only-of-type {\n        vertical-align: middle;\n    }\n\n    .dataframe tbody tr th {\n        vertical-align: top;\n    }\n\n    .dataframe thead th {\n        text-align: right;\n    }\n</style>\n<table border=\"1\" class=\"dataframe\">\n  <thead>\n    <tr style=\"text-align: right;\">\n      <th></th>\n      <th>id</th>\n      <th>gender</th>\n      <th>age</th>\n      <th>hypertension</th>\n      <th>heart_disease</th>\n      <th>ever_married</th>\n      <th>work_type</th>\n      <th>Residence_type</th>\n      <th>avg_glucose_level</th>\n      <th>bmi</th>\n      <th>smoking_status</th>\n      <th>stroke</th>\n      <th>risk_factors</th>\n    </tr>\n  </thead>\n  <tbody>\n    <tr>\n      <th>0</th>\n      <td>0</td>\n      <td>Male</td>\n      <td>28.0</td>\n      <td>0</td>\n      <td>0</td>\n      <td>Yes</td>\n      <td>Private</td>\n      <td>Urban</td>\n      <td>79.53</td>\n      <td>31.1</td>\n      <td>never smoked</td>\n      <td>0</td>\n      <td>1</td>\n    </tr>\n    <tr>\n      <th>1</th>\n      <td>1</td>\n      <td>Male</td>\n      <td>33.0</td>\n      <td>0</td>\n      <td>0</td>\n      <td>Yes</td>\n      <td>Private</td>\n      <td>Rural</td>\n      <td>78.44</td>\n      <td>23.9</td>\n      <td>formerly smoked</td>\n      <td>0</td>\n      <td>1</td>\n    </tr>\n    <tr>\n      <th>2</th>\n      <td>2</td>\n      <td>Female</td>\n      <td>42.0</td>\n      <td>0</td>\n      <td>0</td>\n      <td>Yes</td>\n      <td>Private</td>\n      <td>Rural</td>\n      <td>103.00</td>\n      <td>40.3</td>\n      <td>Unknown</td>\n      <td>0</td>\n      <td>2</td>\n    </tr>\n    <tr>\n      <th>3</th>\n      <td>3</td>\n      <td>Male</td>\n      <td>56.0</td>\n      <td>0</td>\n      <td>0</td>\n      <td>Yes</td>\n      <td>Private</td>\n      <td>Urban</td>\n      <td>64.87</td>\n      <td>28.8</td>\n      <td>never smoked</td>\n      <td>0</td>\n      <td>2</td>\n    </tr>\n    <tr>\n      <th>4</th>\n      <td>4</td>\n      <td>Female</td>\n      <td>24.0</td>\n      <td>0</td>\n      <td>0</td>\n      <td>No</td>\n      <td>Private</td>\n      <td>Rural</td>\n      <td>73.36</td>\n      <td>28.8</td>\n      <td>never smoked</td>\n      <td>0</td>\n      <td>1</td>\n    </tr>\n  </tbody>\n</table>\n</div>"
     },
     "execution_count": 158,
     "metadata": {},
     "output_type": "execute_result"
    }
   ],
   "source": [
    "df.head()"
   ],
   "metadata": {
    "collapsed": false
   }
  },
  {
   "cell_type": "markdown",
   "source": [],
   "metadata": {
    "collapsed": false
   }
  },
  {
   "cell_type": "markdown",
   "source": [],
   "metadata": {
    "collapsed": false
   }
  },
  {
   "cell_type": "code",
   "execution_count": 159,
   "outputs": [
    {
     "data": {
      "text/plain": "   id  gender   age  hypertension  heart_disease ever_married Residence_type  \\\n0   0    Male  28.0             0              0          Yes          Urban   \n1   1    Male  33.0             0              0          Yes          Rural   \n2   2  Female  42.0             0              0          Yes          Rural   \n3   3    Male  56.0             0              0          Yes          Urban   \n4   4  Female  24.0             0              0           No          Rural   \n\n   avg_glucose_level   bmi  stroke  risk_factors  work_type_Govt_job  \\\n0              79.53  31.1       0             1                   0   \n1              78.44  23.9       0             1                   0   \n2             103.00  40.3       0             2                   0   \n3              64.87  28.8       0             2                   0   \n4              73.36  28.8       0             1                   0   \n\n   work_type_Never_worked  work_type_Private  work_type_Self-employed  \\\n0                       0                  1                        0   \n1                       0                  1                        0   \n2                       0                  1                        0   \n3                       0                  1                        0   \n4                       0                  1                        0   \n\n   work_type_children  smoking_status_Unknown  smoking_status_formerly smoked  \\\n0                   0                       0                               0   \n1                   0                       0                               1   \n2                   0                       1                               0   \n3                   0                       0                               0   \n4                   0                       0                               0   \n\n   smoking_status_never smoked  smoking_status_smokes  \n0                            1                      0  \n1                            0                      0  \n2                            0                      0  \n3                            1                      0  \n4                            1                      0  ",
      "text/html": "<div>\n<style scoped>\n    .dataframe tbody tr th:only-of-type {\n        vertical-align: middle;\n    }\n\n    .dataframe tbody tr th {\n        vertical-align: top;\n    }\n\n    .dataframe thead th {\n        text-align: right;\n    }\n</style>\n<table border=\"1\" class=\"dataframe\">\n  <thead>\n    <tr style=\"text-align: right;\">\n      <th></th>\n      <th>id</th>\n      <th>gender</th>\n      <th>age</th>\n      <th>hypertension</th>\n      <th>heart_disease</th>\n      <th>ever_married</th>\n      <th>Residence_type</th>\n      <th>avg_glucose_level</th>\n      <th>bmi</th>\n      <th>stroke</th>\n      <th>risk_factors</th>\n      <th>work_type_Govt_job</th>\n      <th>work_type_Never_worked</th>\n      <th>work_type_Private</th>\n      <th>work_type_Self-employed</th>\n      <th>work_type_children</th>\n      <th>smoking_status_Unknown</th>\n      <th>smoking_status_formerly smoked</th>\n      <th>smoking_status_never smoked</th>\n      <th>smoking_status_smokes</th>\n    </tr>\n  </thead>\n  <tbody>\n    <tr>\n      <th>0</th>\n      <td>0</td>\n      <td>Male</td>\n      <td>28.0</td>\n      <td>0</td>\n      <td>0</td>\n      <td>Yes</td>\n      <td>Urban</td>\n      <td>79.53</td>\n      <td>31.1</td>\n      <td>0</td>\n      <td>1</td>\n      <td>0</td>\n      <td>0</td>\n      <td>1</td>\n      <td>0</td>\n      <td>0</td>\n      <td>0</td>\n      <td>0</td>\n      <td>1</td>\n      <td>0</td>\n    </tr>\n    <tr>\n      <th>1</th>\n      <td>1</td>\n      <td>Male</td>\n      <td>33.0</td>\n      <td>0</td>\n      <td>0</td>\n      <td>Yes</td>\n      <td>Rural</td>\n      <td>78.44</td>\n      <td>23.9</td>\n      <td>0</td>\n      <td>1</td>\n      <td>0</td>\n      <td>0</td>\n      <td>1</td>\n      <td>0</td>\n      <td>0</td>\n      <td>0</td>\n      <td>1</td>\n      <td>0</td>\n      <td>0</td>\n    </tr>\n    <tr>\n      <th>2</th>\n      <td>2</td>\n      <td>Female</td>\n      <td>42.0</td>\n      <td>0</td>\n      <td>0</td>\n      <td>Yes</td>\n      <td>Rural</td>\n      <td>103.00</td>\n      <td>40.3</td>\n      <td>0</td>\n      <td>2</td>\n      <td>0</td>\n      <td>0</td>\n      <td>1</td>\n      <td>0</td>\n      <td>0</td>\n      <td>1</td>\n      <td>0</td>\n      <td>0</td>\n      <td>0</td>\n    </tr>\n    <tr>\n      <th>3</th>\n      <td>3</td>\n      <td>Male</td>\n      <td>56.0</td>\n      <td>0</td>\n      <td>0</td>\n      <td>Yes</td>\n      <td>Urban</td>\n      <td>64.87</td>\n      <td>28.8</td>\n      <td>0</td>\n      <td>2</td>\n      <td>0</td>\n      <td>0</td>\n      <td>1</td>\n      <td>0</td>\n      <td>0</td>\n      <td>0</td>\n      <td>0</td>\n      <td>1</td>\n      <td>0</td>\n    </tr>\n    <tr>\n      <th>4</th>\n      <td>4</td>\n      <td>Female</td>\n      <td>24.0</td>\n      <td>0</td>\n      <td>0</td>\n      <td>No</td>\n      <td>Rural</td>\n      <td>73.36</td>\n      <td>28.8</td>\n      <td>0</td>\n      <td>1</td>\n      <td>0</td>\n      <td>0</td>\n      <td>1</td>\n      <td>0</td>\n      <td>0</td>\n      <td>0</td>\n      <td>0</td>\n      <td>1</td>\n      <td>0</td>\n    </tr>\n  </tbody>\n</table>\n</div>"
     },
     "execution_count": 159,
     "metadata": {},
     "output_type": "execute_result"
    }
   ],
   "source": [
    "df = pd.get_dummies(df,columns=['work_type','smoking_status'])\n",
    "df.head()"
   ],
   "metadata": {
    "collapsed": false
   }
  },
  {
   "cell_type": "code",
   "execution_count": 160,
   "outputs": [
    {
     "data": {
      "text/plain": "Index(['age', 'hypertension', 'heart_disease', 'avg_glucose_level', 'bmi',\n       'risk_factors', 'work_type_Govt_job', 'work_type_Private',\n       'work_type_Self-employed', 'smoking_status_formerly smoked',\n       'smoking_status_never smoked', 'smoking_status_smokes'],\n      dtype='object')"
     },
     "execution_count": 160,
     "metadata": {},
     "output_type": "execute_result"
    }
   ],
   "source": [
    "X = df.drop(['id','stroke','gender','work_type_Never_worked','ever_married','Residence_type','smoking_status_Unknown','work_type_children'],axis=1)\n",
    "X.columns"
   ],
   "metadata": {
    "collapsed": false
   }
  },
  {
   "cell_type": "code",
   "execution_count": 181,
   "outputs": [],
   "source": [
    "X=df[['work_type_Private','work_type_Govt_job','work_type_Self-employed','risk_factors']]"
   ],
   "metadata": {
    "collapsed": false
   }
  },
  {
   "cell_type": "code",
   "execution_count": 182,
   "outputs": [],
   "source": [
    "y = df['stroke']"
   ],
   "metadata": {
    "collapsed": false
   }
  },
  {
   "cell_type": "code",
   "execution_count": 183,
   "outputs": [
    {
     "data": {
      "text/plain": "4"
     },
     "execution_count": 183,
     "metadata": {},
     "output_type": "execute_result"
    }
   ],
   "source": [
    "len(X.columns)"
   ],
   "metadata": {
    "collapsed": false
   }
  },
  {
   "cell_type": "code",
   "execution_count": 184,
   "outputs": [],
   "source": [
    "from sklearn.model_selection import train_test_split\n",
    "\n",
    "X_train, X_test, y_train, y_test = train_test_split(X, y, test_size =0.2, random_state =4)\n"
   ],
   "metadata": {
    "collapsed": false
   }
  },
  {
   "cell_type": "code",
   "execution_count": 185,
   "outputs": [],
   "source": [
    "from sklearn.preprocessing import StandardScaler\n",
    "sc = StandardScaler()\n",
    "X = sc.fit_transform((X))\n",
    "X_test = sc.transform(X_test)\n"
   ],
   "metadata": {
    "collapsed": false
   }
  },
  {
   "cell_type": "code",
   "execution_count": 186,
   "outputs": [],
   "source": [
    "from keras.utils import np_utils\n",
    "X_train = X_train.astype('float32')\n",
    "X_test = X_test.astype('float32')\n",
    "\n",
    "X_train /= 255\n",
    "X_test /= 255\n",
    "\n"
   ],
   "metadata": {
    "collapsed": false
   }
  },
  {
   "cell_type": "code",
   "execution_count": 187,
   "outputs": [],
   "source": [
    "Y_train = np_utils.to_categorical(y_train, 26)\n",
    "Y_test = np_utils.to_categorical(y_test, 26)\n"
   ],
   "metadata": {
    "collapsed": false
   }
  },
  {
   "cell_type": "code",
   "execution_count": 188,
   "outputs": [],
   "source": [
    "from keras.models import Sequential\n",
    "from keras.layers import Dense\n",
    "import tensorflow as tf"
   ],
   "metadata": {
    "collapsed": false
   }
  },
  {
   "cell_type": "code",
   "execution_count": 189,
   "outputs": [],
   "source": [
    "ann = Sequential()\n",
    "ann.add(Dense(units=4, activation='relu'))\n",
    "ann.add(Dense(units=3, activation='relu'))\n",
    "\n",
    "ann.add(Dense(units=1, activation='softplus'))\n",
    "\n",
    "\n",
    "opt = tf.keras.optimizers.Adam()\n",
    "ann.compile(loss=\"binary_crossentropy\",\n",
    "              optimizer=opt,\n",
    "              metrics=[\"accuracy\"])"
   ],
   "metadata": {
    "collapsed": false
   }
  },
  {
   "cell_type": "code",
   "execution_count": 190,
   "outputs": [
    {
     "name": "stdout",
     "output_type": "stream",
     "text": [
      "Epoch 1/50\n",
      "383/383 [==============================] - 3s 4ms/step - loss: 0.7270 - accuracy: 0.4817 - val_loss: 0.3528 - val_accuracy: 0.9680\n",
      "Epoch 2/50\n",
      "383/383 [==============================] - 1s 3ms/step - loss: 0.2431 - accuracy: 0.9564 - val_loss: 0.1644 - val_accuracy: 0.9680\n",
      "Epoch 3/50\n",
      "383/383 [==============================] - 1s 3ms/step - loss: 0.1834 - accuracy: 0.9564 - val_loss: 0.1468 - val_accuracy: 0.9680\n",
      "Epoch 4/50\n",
      "383/383 [==============================] - 1s 3ms/step - loss: 0.1802 - accuracy: 0.9564 - val_loss: 0.1449 - val_accuracy: 0.9680\n",
      "Epoch 5/50\n",
      "383/383 [==============================] - 1s 3ms/step - loss: 0.1799 - accuracy: 0.9564 - val_loss: 0.1443 - val_accuracy: 0.9680\n",
      "Epoch 6/50\n",
      "383/383 [==============================] - 1s 3ms/step - loss: 0.1799 - accuracy: 0.9564 - val_loss: 0.1441 - val_accuracy: 0.9680\n",
      "Epoch 7/50\n",
      "383/383 [==============================] - 1s 3ms/step - loss: 0.1797 - accuracy: 0.9564 - val_loss: 0.1437 - val_accuracy: 0.9680\n",
      "Epoch 8/50\n",
      "383/383 [==============================] - 1s 3ms/step - loss: 0.1796 - accuracy: 0.9564 - val_loss: 0.1434 - val_accuracy: 0.9680\n",
      "Epoch 9/50\n",
      "383/383 [==============================] - 1s 3ms/step - loss: 0.1796 - accuracy: 0.9564 - val_loss: 0.1442 - val_accuracy: 0.9680\n",
      "Epoch 10/50\n",
      "383/383 [==============================] - 1s 3ms/step - loss: 0.1795 - accuracy: 0.9564 - val_loss: 0.1435 - val_accuracy: 0.9680\n",
      "Epoch 11/50\n",
      "383/383 [==============================] - 1s 3ms/step - loss: 0.1793 - accuracy: 0.9564 - val_loss: 0.1444 - val_accuracy: 0.9680\n",
      "Epoch 12/50\n",
      "383/383 [==============================] - 1s 3ms/step - loss: 0.1792 - accuracy: 0.9564 - val_loss: 0.1430 - val_accuracy: 0.9680\n",
      "Epoch 13/50\n",
      "383/383 [==============================] - 1s 3ms/step - loss: 0.1791 - accuracy: 0.9564 - val_loss: 0.1431 - val_accuracy: 0.9680\n",
      "Epoch 14/50\n",
      "383/383 [==============================] - 1s 3ms/step - loss: 0.1790 - accuracy: 0.9564 - val_loss: 0.1439 - val_accuracy: 0.9680\n",
      "Epoch 15/50\n",
      "383/383 [==============================] - 1s 3ms/step - loss: 0.1789 - accuracy: 0.9564 - val_loss: 0.1428 - val_accuracy: 0.9680\n",
      "Epoch 16/50\n",
      "383/383 [==============================] - 1s 3ms/step - loss: 0.1788 - accuracy: 0.9564 - val_loss: 0.1431 - val_accuracy: 0.9680\n",
      "Epoch 17/50\n",
      "383/383 [==============================] - 1s 3ms/step - loss: 0.1787 - accuracy: 0.9564 - val_loss: 0.1431 - val_accuracy: 0.9680\n",
      "Epoch 18/50\n",
      "383/383 [==============================] - 1s 3ms/step - loss: 0.1786 - accuracy: 0.9564 - val_loss: 0.1425 - val_accuracy: 0.9680\n",
      "Epoch 19/50\n",
      "383/383 [==============================] - 1s 3ms/step - loss: 0.1785 - accuracy: 0.9564 - val_loss: 0.1424 - val_accuracy: 0.9680\n",
      "Epoch 20/50\n",
      "383/383 [==============================] - 1s 3ms/step - loss: 0.1784 - accuracy: 0.9564 - val_loss: 0.1430 - val_accuracy: 0.9680\n",
      "Epoch 21/50\n",
      "383/383 [==============================] - 1s 3ms/step - loss: 0.1783 - accuracy: 0.9564 - val_loss: 0.1422 - val_accuracy: 0.9680\n",
      "Epoch 22/50\n",
      "383/383 [==============================] - 1s 3ms/step - loss: 0.1780 - accuracy: 0.9564 - val_loss: 0.1435 - val_accuracy: 0.9680\n",
      "Epoch 23/50\n",
      "383/383 [==============================] - 1s 3ms/step - loss: 0.1780 - accuracy: 0.9564 - val_loss: 0.1417 - val_accuracy: 0.9680\n",
      "Epoch 24/50\n",
      "383/383 [==============================] - 1s 3ms/step - loss: 0.1779 - accuracy: 0.9564 - val_loss: 0.1423 - val_accuracy: 0.9680\n",
      "Epoch 25/50\n",
      "383/383 [==============================] - 1s 3ms/step - loss: 0.1778 - accuracy: 0.9564 - val_loss: 0.1421 - val_accuracy: 0.9680\n",
      "Epoch 26/50\n",
      "383/383 [==============================] - 1s 3ms/step - loss: 0.1777 - accuracy: 0.9564 - val_loss: 0.1415 - val_accuracy: 0.9680\n",
      "Epoch 27/50\n",
      "383/383 [==============================] - 1s 3ms/step - loss: 0.1775 - accuracy: 0.9564 - val_loss: 0.1417 - val_accuracy: 0.9680\n",
      "Epoch 28/50\n",
      "383/383 [==============================] - 1s 3ms/step - loss: 0.1774 - accuracy: 0.9564 - val_loss: 0.1415 - val_accuracy: 0.9680\n",
      "Epoch 29/50\n",
      "383/383 [==============================] - 1s 3ms/step - loss: 0.1773 - accuracy: 0.9564 - val_loss: 0.1412 - val_accuracy: 0.9680\n",
      "Epoch 30/50\n",
      "383/383 [==============================] - 1s 3ms/step - loss: 0.1772 - accuracy: 0.9564 - val_loss: 0.1416 - val_accuracy: 0.9680\n",
      "Epoch 31/50\n",
      "383/383 [==============================] - 1s 3ms/step - loss: 0.1771 - accuracy: 0.9564 - val_loss: 0.1408 - val_accuracy: 0.9680\n",
      "Epoch 32/50\n",
      "383/383 [==============================] - 1s 3ms/step - loss: 0.1769 - accuracy: 0.9564 - val_loss: 0.1411 - val_accuracy: 0.9680\n",
      "Epoch 33/50\n",
      "383/383 [==============================] - 1s 3ms/step - loss: 0.1768 - accuracy: 0.9564 - val_loss: 0.1412 - val_accuracy: 0.9680\n",
      "Epoch 34/50\n",
      "383/383 [==============================] - 1s 3ms/step - loss: 0.1766 - accuracy: 0.9564 - val_loss: 0.1403 - val_accuracy: 0.9680\n",
      "Epoch 35/50\n",
      "383/383 [==============================] - 1s 3ms/step - loss: 0.1765 - accuracy: 0.9564 - val_loss: 0.1407 - val_accuracy: 0.9680\n",
      "Epoch 36/50\n",
      "383/383 [==============================] - 1s 3ms/step - loss: 0.1764 - accuracy: 0.9564 - val_loss: 0.1405 - val_accuracy: 0.9680\n",
      "Epoch 37/50\n",
      "383/383 [==============================] - 1s 3ms/step - loss: 0.1762 - accuracy: 0.9564 - val_loss: 0.1400 - val_accuracy: 0.9680\n",
      "Epoch 38/50\n",
      "383/383 [==============================] - 1s 3ms/step - loss: 0.1761 - accuracy: 0.9564 - val_loss: 0.1400 - val_accuracy: 0.9680\n",
      "Epoch 39/50\n",
      "383/383 [==============================] - 1s 3ms/step - loss: 0.1759 - accuracy: 0.9564 - val_loss: 0.1404 - val_accuracy: 0.9680\n",
      "Epoch 40/50\n",
      "383/383 [==============================] - 1s 3ms/step - loss: 0.1758 - accuracy: 0.9564 - val_loss: 0.1398 - val_accuracy: 0.9680\n",
      "Epoch 41/50\n",
      "383/383 [==============================] - 1s 3ms/step - loss: 0.1755 - accuracy: 0.9564 - val_loss: 0.1395 - val_accuracy: 0.9680\n",
      "Epoch 42/50\n",
      "383/383 [==============================] - 1s 3ms/step - loss: 0.1755 - accuracy: 0.9564 - val_loss: 0.1396 - val_accuracy: 0.9680\n",
      "Epoch 43/50\n",
      "383/383 [==============================] - 1s 3ms/step - loss: 0.1752 - accuracy: 0.9564 - val_loss: 0.1397 - val_accuracy: 0.9680\n",
      "Epoch 44/50\n",
      "383/383 [==============================] - 1s 3ms/step - loss: 0.1751 - accuracy: 0.9564 - val_loss: 0.1390 - val_accuracy: 0.9680\n",
      "Epoch 45/50\n",
      "383/383 [==============================] - 1s 3ms/step - loss: 0.1749 - accuracy: 0.9564 - val_loss: 0.1394 - val_accuracy: 0.9680\n",
      "Epoch 46/50\n",
      "383/383 [==============================] - 1s 3ms/step - loss: 0.1747 - accuracy: 0.9564 - val_loss: 0.1392 - val_accuracy: 0.9680\n",
      "Epoch 47/50\n",
      "383/383 [==============================] - 1s 3ms/step - loss: 0.1745 - accuracy: 0.9564 - val_loss: 0.1386 - val_accuracy: 0.9680\n",
      "Epoch 48/50\n",
      "383/383 [==============================] - 1s 3ms/step - loss: 0.1743 - accuracy: 0.9564 - val_loss: 0.1383 - val_accuracy: 0.9680\n",
      "Epoch 49/50\n",
      "383/383 [==============================] - 1s 3ms/step - loss: 0.1740 - accuracy: 0.9564 - val_loss: 0.1385 - val_accuracy: 0.9680\n",
      "Epoch 50/50\n",
      "383/383 [==============================] - 1s 3ms/step - loss: 0.1738 - accuracy: 0.9564 - val_loss: 0.1381 - val_accuracy: 0.9680\n"
     ]
    },
    {
     "data": {
      "text/plain": "<keras.callbacks.History at 0x21bed750c10>"
     },
     "execution_count": 190,
     "metadata": {},
     "output_type": "execute_result"
    }
   ],
   "source": [
    "ann.fit(X_train,y_train,batch_size=32,validation_data=(X_test,y_test),epochs=50)"
   ],
   "metadata": {
    "collapsed": false
   }
  },
  {
   "cell_type": "markdown",
   "source": [],
   "metadata": {
    "collapsed": false
   }
  },
  {
   "cell_type": "code",
   "execution_count": 191,
   "outputs": [
    {
     "name": "stdout",
     "output_type": "stream",
     "text": [
      "96/96 [==============================] - 0s 3ms/step - loss: 0.1381 - accuracy: 0.9680\n",
      "96/96 [==============================] - 0s 3ms/step\n"
     ]
    }
   ],
   "source": [
    "ann.evaluate(X_test, y_test)\n",
    "y_pred = ann.predict(X_test)\n"
   ],
   "metadata": {
    "collapsed": false
   }
  },
  {
   "cell_type": "code",
   "execution_count": 192,
   "outputs": [
    {
     "ename": "ValueError",
     "evalue": "Classification metrics can't handle a mix of binary and continuous targets",
     "output_type": "error",
     "traceback": [
      "\u001B[1;31m---------------------------------------------------------------------------\u001B[0m",
      "\u001B[1;31mValueError\u001B[0m                                Traceback (most recent call last)",
      "\u001B[1;32m~\\AppData\\Local\\Temp/ipykernel_9800/1075377416.py\u001B[0m in \u001B[0;36m<module>\u001B[1;34m\u001B[0m\n\u001B[0;32m      1\u001B[0m \u001B[1;32mfrom\u001B[0m \u001B[0msklearn\u001B[0m\u001B[1;33m.\u001B[0m\u001B[0mmetrics\u001B[0m \u001B[1;32mimport\u001B[0m \u001B[0mconfusion_matrix\u001B[0m\u001B[1;33m\u001B[0m\u001B[1;33m\u001B[0m\u001B[0m\n\u001B[1;32m----> 2\u001B[1;33m \u001B[0mcm\u001B[0m \u001B[1;33m=\u001B[0m \u001B[0mconfusion_matrix\u001B[0m\u001B[1;33m(\u001B[0m\u001B[0my_test\u001B[0m\u001B[1;33m,\u001B[0m \u001B[0my_pred\u001B[0m\u001B[1;33m)\u001B[0m\u001B[1;33m\u001B[0m\u001B[1;33m\u001B[0m\u001B[0m\n\u001B[0m\u001B[0;32m      3\u001B[0m \u001B[1;33m\u001B[0m\u001B[0m\n",
      "\u001B[1;32mc:\\users\\sagar\\envs\\test\\lib\\site-packages\\sklearn\\metrics\\_classification.py\u001B[0m in \u001B[0;36mconfusion_matrix\u001B[1;34m(y_true, y_pred, labels, sample_weight, normalize)\u001B[0m\n\u001B[0;32m    315\u001B[0m     \u001B[1;33m(\u001B[0m\u001B[1;36m0\u001B[0m\u001B[1;33m,\u001B[0m \u001B[1;36m2\u001B[0m\u001B[1;33m,\u001B[0m \u001B[1;36m1\u001B[0m\u001B[1;33m,\u001B[0m \u001B[1;36m1\u001B[0m\u001B[1;33m)\u001B[0m\u001B[1;33m\u001B[0m\u001B[1;33m\u001B[0m\u001B[0m\n\u001B[0;32m    316\u001B[0m     \"\"\"\n\u001B[1;32m--> 317\u001B[1;33m     \u001B[0my_type\u001B[0m\u001B[1;33m,\u001B[0m \u001B[0my_true\u001B[0m\u001B[1;33m,\u001B[0m \u001B[0my_pred\u001B[0m \u001B[1;33m=\u001B[0m \u001B[0m_check_targets\u001B[0m\u001B[1;33m(\u001B[0m\u001B[0my_true\u001B[0m\u001B[1;33m,\u001B[0m \u001B[0my_pred\u001B[0m\u001B[1;33m)\u001B[0m\u001B[1;33m\u001B[0m\u001B[1;33m\u001B[0m\u001B[0m\n\u001B[0m\u001B[0;32m    318\u001B[0m     \u001B[1;32mif\u001B[0m \u001B[0my_type\u001B[0m \u001B[1;32mnot\u001B[0m \u001B[1;32min\u001B[0m \u001B[1;33m(\u001B[0m\u001B[1;34m\"binary\"\u001B[0m\u001B[1;33m,\u001B[0m \u001B[1;34m\"multiclass\"\u001B[0m\u001B[1;33m)\u001B[0m\u001B[1;33m:\u001B[0m\u001B[1;33m\u001B[0m\u001B[1;33m\u001B[0m\u001B[0m\n\u001B[0;32m    319\u001B[0m         \u001B[1;32mraise\u001B[0m \u001B[0mValueError\u001B[0m\u001B[1;33m(\u001B[0m\u001B[1;34m\"%s is not supported\"\u001B[0m \u001B[1;33m%\u001B[0m \u001B[0my_type\u001B[0m\u001B[1;33m)\u001B[0m\u001B[1;33m\u001B[0m\u001B[1;33m\u001B[0m\u001B[0m\n",
      "\u001B[1;32mc:\\users\\sagar\\envs\\test\\lib\\site-packages\\sklearn\\metrics\\_classification.py\u001B[0m in \u001B[0;36m_check_targets\u001B[1;34m(y_true, y_pred)\u001B[0m\n\u001B[0;32m     93\u001B[0m \u001B[1;33m\u001B[0m\u001B[0m\n\u001B[0;32m     94\u001B[0m     \u001B[1;32mif\u001B[0m \u001B[0mlen\u001B[0m\u001B[1;33m(\u001B[0m\u001B[0my_type\u001B[0m\u001B[1;33m)\u001B[0m \u001B[1;33m>\u001B[0m \u001B[1;36m1\u001B[0m\u001B[1;33m:\u001B[0m\u001B[1;33m\u001B[0m\u001B[1;33m\u001B[0m\u001B[0m\n\u001B[1;32m---> 95\u001B[1;33m         raise ValueError(\n\u001B[0m\u001B[0;32m     96\u001B[0m             \"Classification metrics can't handle a mix of {0} and {1} targets\".format(\n\u001B[0;32m     97\u001B[0m                 \u001B[0mtype_true\u001B[0m\u001B[1;33m,\u001B[0m \u001B[0mtype_pred\u001B[0m\u001B[1;33m\u001B[0m\u001B[1;33m\u001B[0m\u001B[0m\n",
      "\u001B[1;31mValueError\u001B[0m: Classification metrics can't handle a mix of binary and continuous targets"
     ]
    }
   ],
   "source": [
    "from sklearn.metrics import confusion_matrix\n",
    "cm = confusion_matrix(y_test, y_pred)\n"
   ],
   "metadata": {
    "collapsed": false
   }
  },
  {
   "cell_type": "code",
   "execution_count": 193,
   "outputs": [
    {
     "ename": "NameError",
     "evalue": "name 'cm' is not defined",
     "output_type": "error",
     "traceback": [
      "\u001B[1;31m---------------------------------------------------------------------------\u001B[0m",
      "\u001B[1;31mNameError\u001B[0m                                 Traceback (most recent call last)",
      "\u001B[1;32m~\\AppData\\Local\\Temp/ipykernel_9800/1864509152.py\u001B[0m in \u001B[0;36m<module>\u001B[1;34m\u001B[0m\n\u001B[1;32m----> 1\u001B[1;33m \u001B[0mcm\u001B[0m\u001B[1;33m\u001B[0m\u001B[1;33m\u001B[0m\u001B[0m\n\u001B[0m",
      "\u001B[1;31mNameError\u001B[0m: name 'cm' is not defined"
     ]
    }
   ],
   "source": [
    "cm"
   ],
   "metadata": {
    "collapsed": false
   }
  },
  {
   "cell_type": "code",
   "execution_count": 194,
   "outputs": [
    {
     "data": {
      "text/plain": "RandomForestClassifier(n_estimators=1000)",
      "text/html": "<style>#sk-container-id-4 {color: black;background-color: white;}#sk-container-id-4 pre{padding: 0;}#sk-container-id-4 div.sk-toggleable {background-color: white;}#sk-container-id-4 label.sk-toggleable__label {cursor: pointer;display: block;width: 100%;margin-bottom: 0;padding: 0.3em;box-sizing: border-box;text-align: center;}#sk-container-id-4 label.sk-toggleable__label-arrow:before {content: \"▸\";float: left;margin-right: 0.25em;color: #696969;}#sk-container-id-4 label.sk-toggleable__label-arrow:hover:before {color: black;}#sk-container-id-4 div.sk-estimator:hover label.sk-toggleable__label-arrow:before {color: black;}#sk-container-id-4 div.sk-toggleable__content {max-height: 0;max-width: 0;overflow: hidden;text-align: left;background-color: #f0f8ff;}#sk-container-id-4 div.sk-toggleable__content pre {margin: 0.2em;color: black;border-radius: 0.25em;background-color: #f0f8ff;}#sk-container-id-4 input.sk-toggleable__control:checked~div.sk-toggleable__content {max-height: 200px;max-width: 100%;overflow: auto;}#sk-container-id-4 input.sk-toggleable__control:checked~label.sk-toggleable__label-arrow:before {content: \"▾\";}#sk-container-id-4 div.sk-estimator input.sk-toggleable__control:checked~label.sk-toggleable__label {background-color: #d4ebff;}#sk-container-id-4 div.sk-label input.sk-toggleable__control:checked~label.sk-toggleable__label {background-color: #d4ebff;}#sk-container-id-4 input.sk-hidden--visually {border: 0;clip: rect(1px 1px 1px 1px);clip: rect(1px, 1px, 1px, 1px);height: 1px;margin: -1px;overflow: hidden;padding: 0;position: absolute;width: 1px;}#sk-container-id-4 div.sk-estimator {font-family: monospace;background-color: #f0f8ff;border: 1px dotted black;border-radius: 0.25em;box-sizing: border-box;margin-bottom: 0.5em;}#sk-container-id-4 div.sk-estimator:hover {background-color: #d4ebff;}#sk-container-id-4 div.sk-parallel-item::after {content: \"\";width: 100%;border-bottom: 1px solid gray;flex-grow: 1;}#sk-container-id-4 div.sk-label:hover label.sk-toggleable__label {background-color: #d4ebff;}#sk-container-id-4 div.sk-serial::before {content: \"\";position: absolute;border-left: 1px solid gray;box-sizing: border-box;top: 0;bottom: 0;left: 50%;z-index: 0;}#sk-container-id-4 div.sk-serial {display: flex;flex-direction: column;align-items: center;background-color: white;padding-right: 0.2em;padding-left: 0.2em;position: relative;}#sk-container-id-4 div.sk-item {position: relative;z-index: 1;}#sk-container-id-4 div.sk-parallel {display: flex;align-items: stretch;justify-content: center;background-color: white;position: relative;}#sk-container-id-4 div.sk-item::before, #sk-container-id-4 div.sk-parallel-item::before {content: \"\";position: absolute;border-left: 1px solid gray;box-sizing: border-box;top: 0;bottom: 0;left: 50%;z-index: -1;}#sk-container-id-4 div.sk-parallel-item {display: flex;flex-direction: column;z-index: 1;position: relative;background-color: white;}#sk-container-id-4 div.sk-parallel-item:first-child::after {align-self: flex-end;width: 50%;}#sk-container-id-4 div.sk-parallel-item:last-child::after {align-self: flex-start;width: 50%;}#sk-container-id-4 div.sk-parallel-item:only-child::after {width: 0;}#sk-container-id-4 div.sk-dashed-wrapped {border: 1px dashed gray;margin: 0 0.4em 0.5em 0.4em;box-sizing: border-box;padding-bottom: 0.4em;background-color: white;}#sk-container-id-4 div.sk-label label {font-family: monospace;font-weight: bold;display: inline-block;line-height: 1.2em;}#sk-container-id-4 div.sk-label-container {text-align: center;}#sk-container-id-4 div.sk-container {/* jupyter's `normalize.less` sets `[hidden] { display: none; }` but bootstrap.min.css set `[hidden] { display: none !important; }` so we also need the `!important` here to be able to override the default hidden behavior on the sphinx rendered scikit-learn.org. See: https://github.com/scikit-learn/scikit-learn/issues/21755 */display: inline-block !important;position: relative;}#sk-container-id-4 div.sk-text-repr-fallback {display: none;}</style><div id=\"sk-container-id-4\" class=\"sk-top-container\"><div class=\"sk-text-repr-fallback\"><pre>RandomForestClassifier(n_estimators=1000)</pre><b>In a Jupyter environment, please rerun this cell to show the HTML representation or trust the notebook. <br />On GitHub, the HTML representation is unable to render, please try loading this page with nbviewer.org.</b></div><div class=\"sk-container\" hidden><div class=\"sk-item\"><div class=\"sk-estimator sk-toggleable\"><input class=\"sk-toggleable__control sk-hidden--visually\" id=\"sk-estimator-id-4\" type=\"checkbox\" checked><label for=\"sk-estimator-id-4\" class=\"sk-toggleable__label sk-toggleable__label-arrow\">RandomForestClassifier</label><div class=\"sk-toggleable__content\"><pre>RandomForestClassifier(n_estimators=1000)</pre></div></div></div></div></div>"
     },
     "execution_count": 194,
     "metadata": {},
     "output_type": "execute_result"
    }
   ],
   "source": [
    "from sklearn.ensemble import RandomForestClassifier\n",
    "clf = RandomForestClassifier(n_estimators=1000)\n",
    "clf.fit(X_train,y_train)"
   ],
   "metadata": {
    "collapsed": false
   }
  },
  {
   "cell_type": "code",
   "execution_count": 195,
   "outputs": [
    {
     "name": "stderr",
     "output_type": "stream",
     "text": [
      "c:\\users\\sagar\\envs\\test\\lib\\site-packages\\sklearn\\base.py:409: UserWarning: X does not have valid feature names, but RandomForestClassifier was fitted with feature names\n",
      "  warnings.warn(\n"
     ]
    },
    {
     "data": {
      "text/plain": "0.967984318850049"
     },
     "execution_count": 195,
     "metadata": {},
     "output_type": "execute_result"
    }
   ],
   "source": [
    "clf.score(X_test,y_test)\n"
   ],
   "metadata": {
    "collapsed": false
   }
  },
  {
   "cell_type": "code",
   "execution_count": null,
   "outputs": [],
   "source": [
    "from sklearn.decomposition import PCA\n",
    "pca = PCA(n_components=300)\n",
    "X = pca.fit_transform(X)"
   ],
   "metadata": {
    "collapsed": false
   }
  },
  {
   "cell_type": "code",
   "execution_count": 197,
   "outputs": [
    {
     "name": "stdout",
     "output_type": "stream",
     "text": [
      "Index(['age', 'hypertension', 'heart_disease', 'avg_glucose_level', 'bmi',\n",
      "       'risk_factors', 'work_type_Govt_job', 'work_type_Private',\n",
      "       'work_type_Self-employed', 'smoking_status_formerly smoked',\n",
      "       'smoking_status_never smoked', 'smoking_status_smokes'],\n",
      "      dtype='object')\n",
      "319/319 [==============================] - 1s 2ms/step\n",
      "10204\n",
      "10204\n"
     ]
    }
   ],
   "source": [
    "df_t = pd.read_csv('test.csv')\n",
    "df_t[\"risk_factors\"] = df_t[[\n",
    "        \"avg_glucose_level\", \"age\", \"bmi\",\n",
    "        \"hypertension\", \"heart_disease\",\n",
    "        \"smoking_status\"\n",
    "    ]].apply(\n",
    "        lambda x: \\\n",
    "        0 + (1 if x.avg_glucose_level > 99 else 0) + \\\n",
    "        (1 if x.age > 45 else 0) + (1 if x.bmi > 24.99 else 0) + \\\n",
    "        (1 if x.hypertension == 1 else 0) + \\\n",
    "        (1 if x.heart_disease == 1 else 0) + \\\n",
    "        (1 if x.smoking_status in [\"formerly smoked\", \"smokes\"] else 0),\n",
    "        axis=1\n",
    "    )\n",
    "\n",
    "df_t = pd.get_dummies(df_t,columns=['work_type','smoking_status'])\n",
    "X_t = df.drop(['id','gender','stroke','work_type_Never_worked','ever_married','Residence_type','smoking_status_Unknown','work_type_children'],axis=1)\n",
    "print(X_t.columns)\n",
    "X_t=df_t[['work_type_Private','work_type_Govt_job','work_type_Self-employed','risk_factors']]\n",
    "\n",
    "id = df_t['id']\n",
    "from sklearn.preprocessing import StandardScaler\n",
    "sc = StandardScaler()\n",
    "X_t = sc.fit_transform((X_t))\n",
    "from keras.utils import np_utils\n",
    "X_t = X_t.astype('float32')\n",
    "\n",
    "X_t /= 255\n",
    "\n",
    "y_p = ann.predict(X_t)\n",
    "print(len(X_t))\n",
    "print(len(y_p))"
   ],
   "metadata": {
    "collapsed": false
   }
  },
  {
   "cell_type": "code",
   "execution_count": 198,
   "outputs": [],
   "source": [
    "df_t['stroke']=pd.Series([i[0] for i in y_p])\n",
    "df_t['id']=id\n",
    "csc = df_t[['id','stroke']]\n",
    "csc.to_csv('Submission_file_name.csv', index=False , header = 1)\n"
   ],
   "metadata": {
    "collapsed": false
   }
  },
  {
   "cell_type": "code",
   "execution_count": 56,
   "outputs": [],
   "source": [
    "with open('as.csv','w+') as ap:\n",
    "    for i in y_p:\n",
    "        ap.write(str(i[0]))\n",
    "        ap.write('\\n')"
   ],
   "metadata": {
    "collapsed": false
   }
  },
  {
   "cell_type": "code",
   "execution_count": 57,
   "outputs": [
    {
     "data": {
      "text/plain": "10204"
     },
     "execution_count": 57,
     "metadata": {},
     "output_type": "execute_result"
    }
   ],
   "source": [
    "len(y_p)"
   ],
   "metadata": {
    "collapsed": false
   }
  },
  {
   "cell_type": "code",
   "execution_count": null,
   "outputs": [],
   "source": [],
   "metadata": {
    "collapsed": false
   }
  }
 ],
 "metadata": {
  "kernelspec": {
   "display_name": "Python 3",
   "language": "python",
   "name": "python3"
  },
  "language_info": {
   "codemirror_mode": {
    "name": "ipython",
    "version": 2
   },
   "file_extension": ".py",
   "mimetype": "text/x-python",
   "name": "python",
   "nbconvert_exporter": "python",
   "pygments_lexer": "ipython2",
   "version": "2.7.6"
  }
 },
 "nbformat": 4,
 "nbformat_minor": 0
}
