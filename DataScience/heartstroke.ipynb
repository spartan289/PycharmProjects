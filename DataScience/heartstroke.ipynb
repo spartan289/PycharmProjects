{
 "cells": [
  {
   "cell_type": "code",
   "execution_count": 2,
   "metadata": {
    "collapsed": true
   },
   "outputs": [],
   "source": [
    "import pandas as pd\n",
    "import numpy as np\n",
    "import matplotlib.pyplot as plt"
   ]
  },
  {
   "cell_type": "code",
   "execution_count": 82,
   "outputs": [],
   "source": [
    "df = pd.read_csv('train.csv')"
   ],
   "metadata": {
    "collapsed": false
   }
  },
  {
   "cell_type": "code",
   "execution_count": 83,
   "outputs": [
    {
     "data": {
      "text/plain": "   id  gender   age  hypertension  heart_disease ever_married work_type  \\\n0   0    Male  28.0             0              0          Yes   Private   \n1   1    Male  33.0             0              0          Yes   Private   \n2   2  Female  42.0             0              0          Yes   Private   \n3   3    Male  56.0             0              0          Yes   Private   \n4   4  Female  24.0             0              0           No   Private   \n\n  Residence_type  avg_glucose_level   bmi   smoking_status  stroke  \n0          Urban              79.53  31.1     never smoked       0  \n1          Rural              78.44  23.9  formerly smoked       0  \n2          Rural             103.00  40.3          Unknown       0  \n3          Urban              64.87  28.8     never smoked       0  \n4          Rural              73.36  28.8     never smoked       0  ",
      "text/html": "<div>\n<style scoped>\n    .dataframe tbody tr th:only-of-type {\n        vertical-align: middle;\n    }\n\n    .dataframe tbody tr th {\n        vertical-align: top;\n    }\n\n    .dataframe thead th {\n        text-align: right;\n    }\n</style>\n<table border=\"1\" class=\"dataframe\">\n  <thead>\n    <tr style=\"text-align: right;\">\n      <th></th>\n      <th>id</th>\n      <th>gender</th>\n      <th>age</th>\n      <th>hypertension</th>\n      <th>heart_disease</th>\n      <th>ever_married</th>\n      <th>work_type</th>\n      <th>Residence_type</th>\n      <th>avg_glucose_level</th>\n      <th>bmi</th>\n      <th>smoking_status</th>\n      <th>stroke</th>\n    </tr>\n  </thead>\n  <tbody>\n    <tr>\n      <th>0</th>\n      <td>0</td>\n      <td>Male</td>\n      <td>28.0</td>\n      <td>0</td>\n      <td>0</td>\n      <td>Yes</td>\n      <td>Private</td>\n      <td>Urban</td>\n      <td>79.53</td>\n      <td>31.1</td>\n      <td>never smoked</td>\n      <td>0</td>\n    </tr>\n    <tr>\n      <th>1</th>\n      <td>1</td>\n      <td>Male</td>\n      <td>33.0</td>\n      <td>0</td>\n      <td>0</td>\n      <td>Yes</td>\n      <td>Private</td>\n      <td>Rural</td>\n      <td>78.44</td>\n      <td>23.9</td>\n      <td>formerly smoked</td>\n      <td>0</td>\n    </tr>\n    <tr>\n      <th>2</th>\n      <td>2</td>\n      <td>Female</td>\n      <td>42.0</td>\n      <td>0</td>\n      <td>0</td>\n      <td>Yes</td>\n      <td>Private</td>\n      <td>Rural</td>\n      <td>103.00</td>\n      <td>40.3</td>\n      <td>Unknown</td>\n      <td>0</td>\n    </tr>\n    <tr>\n      <th>3</th>\n      <td>3</td>\n      <td>Male</td>\n      <td>56.0</td>\n      <td>0</td>\n      <td>0</td>\n      <td>Yes</td>\n      <td>Private</td>\n      <td>Urban</td>\n      <td>64.87</td>\n      <td>28.8</td>\n      <td>never smoked</td>\n      <td>0</td>\n    </tr>\n    <tr>\n      <th>4</th>\n      <td>4</td>\n      <td>Female</td>\n      <td>24.0</td>\n      <td>0</td>\n      <td>0</td>\n      <td>No</td>\n      <td>Private</td>\n      <td>Rural</td>\n      <td>73.36</td>\n      <td>28.8</td>\n      <td>never smoked</td>\n      <td>0</td>\n    </tr>\n  </tbody>\n</table>\n</div>"
     },
     "execution_count": 83,
     "metadata": {},
     "output_type": "execute_result"
    }
   ],
   "source": [
    "df.head()"
   ],
   "metadata": {
    "collapsed": false
   }
  },
  {
   "cell_type": "code",
   "execution_count": 84,
   "outputs": [
    {
     "data": {
      "text/plain": "Index(['id', 'gender', 'age', 'hypertension', 'heart_disease', 'ever_married',\n       'work_type', 'Residence_type', 'avg_glucose_level', 'bmi',\n       'smoking_status', 'stroke'],\n      dtype='object')"
     },
     "execution_count": 84,
     "metadata": {},
     "output_type": "execute_result"
    }
   ],
   "source": [
    "df.columns\n",
    "\n"
   ],
   "metadata": {
    "collapsed": false
   }
  },
  {
   "cell_type": "code",
   "execution_count": 85,
   "outputs": [],
   "source": [
    "df = pd.get_dummies(df,columns=['gender','ever_married','work_type','Residence_type'])"
   ],
   "metadata": {
    "collapsed": false
   }
  },
  {
   "cell_type": "code",
   "execution_count": 91,
   "outputs": [],
   "source": [
    "X = df.drop(['id','smoking_status','stroke','gender_Other','work_type_Never_worked'],axis=1)"
   ],
   "metadata": {
    "collapsed": false
   }
  },
  {
   "cell_type": "code",
   "execution_count": 92,
   "outputs": [
    {
     "data": {
      "text/plain": "Index(['id', 'age', 'hypertension', 'heart_disease', 'avg_glucose_level',\n       'bmi', 'smoking_status', 'stroke', 'gender_Female', 'gender_Male',\n       'gender_Other', 'ever_married_No', 'ever_married_Yes',\n       'work_type_Govt_job', 'work_type_Never_worked', 'work_type_Private',\n       'work_type_Self-employed', 'work_type_children', 'Residence_type_Rural',\n       'Residence_type_Urban'],\n      dtype='object')"
     },
     "execution_count": 92,
     "metadata": {},
     "output_type": "execute_result"
    }
   ],
   "source": [
    "df.columns"
   ],
   "metadata": {
    "collapsed": false
   }
  },
  {
   "cell_type": "code",
   "execution_count": 93,
   "outputs": [],
   "source": [
    "y = df['stroke']"
   ],
   "metadata": {
    "collapsed": false
   }
  },
  {
   "cell_type": "code",
   "execution_count": 94,
   "outputs": [
    {
     "data": {
      "text/plain": "Index(['age', 'hypertension', 'heart_disease', 'avg_glucose_level', 'bmi',\n       'gender_Female', 'gender_Male', 'ever_married_No', 'ever_married_Yes',\n       'work_type_Govt_job', 'work_type_Private', 'work_type_Self-employed',\n       'work_type_children', 'Residence_type_Rural', 'Residence_type_Urban'],\n      dtype='object')"
     },
     "execution_count": 94,
     "metadata": {},
     "output_type": "execute_result"
    }
   ],
   "source": [
    "X.columns"
   ],
   "metadata": {
    "collapsed": false
   }
  },
  {
   "cell_type": "code",
   "execution_count": 95,
   "outputs": [],
   "source": [
    "from sklearn.model_selection import train_test_split\n",
    "\n",
    "X_train, X_test, y_train, y_test = train_test_split(X, y, test_size =0.1, random_state =4)\n"
   ],
   "metadata": {
    "collapsed": false
   }
  },
  {
   "cell_type": "code",
   "execution_count": 96,
   "outputs": [],
   "source": [
    "from sklearn.preprocessing import StandardScaler\n",
    "sc = StandardScaler()\n",
    "X = sc.fit_transform((X))\n",
    "X_test = sc.transform(X_test)\n"
   ],
   "metadata": {
    "collapsed": false
   }
  },
  {
   "cell_type": "code",
   "execution_count": 97,
   "outputs": [],
   "source": [
    "from keras.utils import np_utils\n",
    "X_train = X_train.astype('float32')\n",
    "X_test = X_test.astype('float32')\n",
    "\n",
    "X_train /= 255\n",
    "X_test /= 255\n",
    "\n"
   ],
   "metadata": {
    "collapsed": false
   }
  },
  {
   "cell_type": "code",
   "execution_count": 98,
   "outputs": [],
   "source": [
    "Y_train = np_utils.to_categorical(y_train, 26)\n",
    "Y_test = np_utils.to_categorical(y_test, 26)\n"
   ],
   "metadata": {
    "collapsed": false
   }
  },
  {
   "cell_type": "code",
   "execution_count": 99,
   "outputs": [],
   "source": [
    "from keras.models import Sequential\n",
    "from keras.layers import Dense\n",
    "import tensorflow as tf"
   ],
   "metadata": {
    "collapsed": false
   }
  },
  {
   "cell_type": "code",
   "execution_count": 110,
   "outputs": [],
   "source": [
    "ann = Sequential()\n",
    "ann.add(Dense(units=17, activation='relu'))\n",
    "ann.add(Dense(units=9, activation='relu'))\n",
    "\n",
    "ann.add(Dense(units=1, activation='softplus'))\n",
    "\n",
    "\n",
    "opt = tf.keras.optimizers.Adam()\n",
    "ann.compile(loss=\"binary_crossentropy\",\n",
    "              optimizer=opt,\n",
    "              metrics=[\"accuracy\"])"
   ],
   "metadata": {
    "collapsed": false
   }
  },
  {
   "cell_type": "code",
   "execution_count": 111,
   "outputs": [
    {
     "name": "stdout",
     "output_type": "stream",
     "text": [
      "Epoch 1/50\n",
      "431/431 [==============================] - 2s 2ms/step - loss: 0.4344 - accuracy: 0.7473 - val_loss: 0.1944 - val_accuracy: 0.9673\n",
      "Epoch 2/50\n",
      "431/431 [==============================] - 1s 1ms/step - loss: 0.1834 - accuracy: 0.9577 - val_loss: 0.1732 - val_accuracy: 0.9673\n",
      "Epoch 3/50\n",
      "431/431 [==============================] - 1s 1ms/step - loss: 0.1753 - accuracy: 0.9577 - val_loss: 0.1516 - val_accuracy: 0.9673\n",
      "Epoch 4/50\n",
      "431/431 [==============================] - 1s 1ms/step - loss: 0.1639 - accuracy: 0.9577 - val_loss: 0.1423 - val_accuracy: 0.9673\n",
      "Epoch 5/50\n",
      "431/431 [==============================] - 1s 1ms/step - loss: 0.1502 - accuracy: 0.9577 - val_loss: 0.1517 - val_accuracy: 0.9673\n",
      "Epoch 6/50\n",
      "431/431 [==============================] - 1s 2ms/step - loss: 0.1392 - accuracy: 0.9577 - val_loss: 0.1758 - val_accuracy: 0.9673\n",
      "Epoch 7/50\n",
      "431/431 [==============================] - 1s 2ms/step - loss: 0.1338 - accuracy: 0.9581 - val_loss: 0.1848 - val_accuracy: 0.9673\n",
      "Epoch 8/50\n",
      "431/431 [==============================] - 1s 1ms/step - loss: 0.1324 - accuracy: 0.9576 - val_loss: 0.2013 - val_accuracy: 0.9673\n",
      "Epoch 9/50\n",
      "431/431 [==============================] - 1s 2ms/step - loss: 0.1311 - accuracy: 0.9576 - val_loss: 0.2108 - val_accuracy: 0.9673\n",
      "Epoch 10/50\n",
      "431/431 [==============================] - 1s 1ms/step - loss: 0.1307 - accuracy: 0.9581 - val_loss: 0.2171 - val_accuracy: 0.9673\n",
      "Epoch 11/50\n",
      "431/431 [==============================] - 1s 2ms/step - loss: 0.1305 - accuracy: 0.9573 - val_loss: 0.2180 - val_accuracy: 0.9673\n",
      "Epoch 12/50\n",
      "431/431 [==============================] - 1s 2ms/step - loss: 0.1302 - accuracy: 0.9575 - val_loss: 0.2274 - val_accuracy: 0.9673\n",
      "Epoch 13/50\n",
      "431/431 [==============================] - 1s 2ms/step - loss: 0.1298 - accuracy: 0.9583 - val_loss: 0.2291 - val_accuracy: 0.9673\n",
      "Epoch 14/50\n",
      "431/431 [==============================] - 1s 2ms/step - loss: 0.1299 - accuracy: 0.9580 - val_loss: 0.2303 - val_accuracy: 0.9673\n",
      "Epoch 15/50\n",
      "431/431 [==============================] - 1s 1ms/step - loss: 0.1298 - accuracy: 0.9580 - val_loss: 0.2389 - val_accuracy: 0.9673\n",
      "Epoch 16/50\n",
      "431/431 [==============================] - 1s 2ms/step - loss: 0.1298 - accuracy: 0.9577 - val_loss: 0.2332 - val_accuracy: 0.9673\n",
      "Epoch 17/50\n",
      "431/431 [==============================] - 1s 2ms/step - loss: 0.1296 - accuracy: 0.9578 - val_loss: 0.2346 - val_accuracy: 0.9673\n",
      "Epoch 18/50\n",
      "431/431 [==============================] - 1s 1ms/step - loss: 0.1296 - accuracy: 0.9575 - val_loss: 0.2366 - val_accuracy: 0.9673\n",
      "Epoch 19/50\n",
      "431/431 [==============================] - 1s 1ms/step - loss: 0.1297 - accuracy: 0.9579 - val_loss: 0.2327 - val_accuracy: 0.9673\n",
      "Epoch 20/50\n",
      "431/431 [==============================] - 1s 1ms/step - loss: 0.1296 - accuracy: 0.9575 - val_loss: 0.2380 - val_accuracy: 0.9673\n",
      "Epoch 21/50\n",
      "431/431 [==============================] - 1s 1ms/step - loss: 0.1293 - accuracy: 0.9574 - val_loss: 0.2446 - val_accuracy: 0.9673\n",
      "Epoch 22/50\n",
      "431/431 [==============================] - 1s 1ms/step - loss: 0.1291 - accuracy: 0.9577 - val_loss: 0.2376 - val_accuracy: 0.9673\n",
      "Epoch 23/50\n",
      "431/431 [==============================] - 1s 1ms/step - loss: 0.1294 - accuracy: 0.9573 - val_loss: 0.2412 - val_accuracy: 0.9673\n",
      "Epoch 24/50\n",
      "431/431 [==============================] - 1s 1ms/step - loss: 0.1292 - accuracy: 0.9575 - val_loss: 0.2435 - val_accuracy: 0.9673\n",
      "Epoch 25/50\n",
      "431/431 [==============================] - 1s 1ms/step - loss: 0.1292 - accuracy: 0.9574 - val_loss: 0.2449 - val_accuracy: 0.9673\n",
      "Epoch 26/50\n",
      "431/431 [==============================] - 1s 1ms/step - loss: 0.1290 - accuracy: 0.9575 - val_loss: 0.2421 - val_accuracy: 0.9673\n",
      "Epoch 27/50\n",
      "431/431 [==============================] - 1s 1ms/step - loss: 0.1290 - accuracy: 0.9581 - val_loss: 0.2443 - val_accuracy: 0.9673\n",
      "Epoch 28/50\n",
      "431/431 [==============================] - 1s 1ms/step - loss: 0.1291 - accuracy: 0.9577 - val_loss: 0.2518 - val_accuracy: 0.9673\n",
      "Epoch 29/50\n",
      "431/431 [==============================] - 1s 2ms/step - loss: 0.1295 - accuracy: 0.9580 - val_loss: 0.2481 - val_accuracy: 0.9673\n",
      "Epoch 30/50\n",
      "431/431 [==============================] - 1s 1ms/step - loss: 0.1292 - accuracy: 0.9578 - val_loss: 0.2488 - val_accuracy: 0.9673\n",
      "Epoch 31/50\n",
      "431/431 [==============================] - 1s 1ms/step - loss: 0.1287 - accuracy: 0.9576 - val_loss: 0.2498 - val_accuracy: 0.9673\n",
      "Epoch 32/50\n",
      "431/431 [==============================] - 1s 1ms/step - loss: 0.1293 - accuracy: 0.9575 - val_loss: 0.2412 - val_accuracy: 0.9673\n",
      "Epoch 33/50\n",
      "431/431 [==============================] - 1s 1ms/step - loss: 0.1291 - accuracy: 0.9577 - val_loss: 0.2501 - val_accuracy: 0.9673\n",
      "Epoch 34/50\n",
      "431/431 [==============================] - 1s 1ms/step - loss: 0.1289 - accuracy: 0.9573 - val_loss: 0.2457 - val_accuracy: 0.9673\n",
      "Epoch 35/50\n",
      "431/431 [==============================] - 1s 1ms/step - loss: 0.1289 - accuracy: 0.9575 - val_loss: 0.2468 - val_accuracy: 0.9673\n",
      "Epoch 36/50\n",
      "431/431 [==============================] - 1s 1ms/step - loss: 0.1290 - accuracy: 0.9572 - val_loss: 0.2505 - val_accuracy: 0.9673\n",
      "Epoch 37/50\n",
      "431/431 [==============================] - 1s 1ms/step - loss: 0.1287 - accuracy: 0.9580 - val_loss: 0.2526 - val_accuracy: 0.9673\n",
      "Epoch 38/50\n",
      "431/431 [==============================] - 1s 1ms/step - loss: 0.1289 - accuracy: 0.9578 - val_loss: 0.2523 - val_accuracy: 0.9673\n",
      "Epoch 39/50\n",
      "431/431 [==============================] - 1s 1ms/step - loss: 0.1291 - accuracy: 0.9572 - val_loss: 0.2514 - val_accuracy: 0.9673\n",
      "Epoch 40/50\n",
      "431/431 [==============================] - 1s 1ms/step - loss: 0.1286 - accuracy: 0.9577 - val_loss: 0.2574 - val_accuracy: 0.9673\n",
      "Epoch 41/50\n",
      "431/431 [==============================] - 1s 1ms/step - loss: 0.1288 - accuracy: 0.9580 - val_loss: 0.2582 - val_accuracy: 0.9673\n",
      "Epoch 42/50\n",
      "431/431 [==============================] - 1s 1ms/step - loss: 0.1291 - accuracy: 0.9577 - val_loss: 0.2565 - val_accuracy: 0.9673\n",
      "Epoch 43/50\n",
      "431/431 [==============================] - 1s 1ms/step - loss: 0.1288 - accuracy: 0.9574 - val_loss: 0.2508 - val_accuracy: 0.9673\n",
      "Epoch 44/50\n",
      "431/431 [==============================] - 1s 1ms/step - loss: 0.1289 - accuracy: 0.9573 - val_loss: 0.2529 - val_accuracy: 0.9673\n",
      "Epoch 45/50\n",
      "431/431 [==============================] - 1s 1ms/step - loss: 0.1287 - accuracy: 0.9574 - val_loss: 0.2585 - val_accuracy: 0.9673\n",
      "Epoch 46/50\n",
      "431/431 [==============================] - 1s 1ms/step - loss: 0.1291 - accuracy: 0.9570 - val_loss: 0.2538 - val_accuracy: 0.9673\n",
      "Epoch 47/50\n",
      "431/431 [==============================] - 1s 1ms/step - loss: 0.1289 - accuracy: 0.9576 - val_loss: 0.2502 - val_accuracy: 0.9673\n",
      "Epoch 48/50\n",
      "431/431 [==============================] - 1s 1ms/step - loss: 0.1285 - accuracy: 0.9577 - val_loss: 0.2504 - val_accuracy: 0.9673\n",
      "Epoch 49/50\n",
      "431/431 [==============================] - 1s 2ms/step - loss: 0.1287 - accuracy: 0.9579 - val_loss: 0.2582 - val_accuracy: 0.9673\n",
      "Epoch 50/50\n",
      "431/431 [==============================] - 1s 2ms/step - loss: 0.1287 - accuracy: 0.9575 - val_loss: 0.2527 - val_accuracy: 0.9673\n"
     ]
    },
    {
     "data": {
      "text/plain": "<keras.callbacks.History at 0x1c6175769d0>"
     },
     "execution_count": 111,
     "metadata": {},
     "output_type": "execute_result"
    }
   ],
   "source": [
    "ann.fit(X_train,y_train,batch_size=32,validation_data=(X_test,y_test),epochs=50)"
   ],
   "metadata": {
    "collapsed": false
   }
  },
  {
   "cell_type": "code",
   "execution_count": 68,
   "outputs": [
    {
     "name": "stdout",
     "output_type": "stream",
     "text": [
      "48/48 [==============================] - 0s 1ms/step - loss: 0.1149 - accuracy: 0.9673\n",
      "48/48 [==============================] - 0s 992us/step\n"
     ]
    }
   ],
   "source": [
    "ann.evaluate(X_test, y_test)\n",
    "y_pred = ann.predict(X_test)\n"
   ],
   "metadata": {
    "collapsed": false
   }
  },
  {
   "cell_type": "code",
   "execution_count": 69,
   "outputs": [
    {
     "ename": "ValueError",
     "evalue": "Classification metrics can't handle a mix of binary and continuous targets",
     "output_type": "error",
     "traceback": [
      "\u001B[1;31m---------------------------------------------------------------------------\u001B[0m",
      "\u001B[1;31mValueError\u001B[0m                                Traceback (most recent call last)",
      "\u001B[1;32m~\\AppData\\Local\\Temp/ipykernel_24300/1075377416.py\u001B[0m in \u001B[0;36m<module>\u001B[1;34m\u001B[0m\n\u001B[0;32m      1\u001B[0m \u001B[1;32mfrom\u001B[0m \u001B[0msklearn\u001B[0m\u001B[1;33m.\u001B[0m\u001B[0mmetrics\u001B[0m \u001B[1;32mimport\u001B[0m \u001B[0mconfusion_matrix\u001B[0m\u001B[1;33m\u001B[0m\u001B[1;33m\u001B[0m\u001B[0m\n\u001B[1;32m----> 2\u001B[1;33m \u001B[0mcm\u001B[0m \u001B[1;33m=\u001B[0m \u001B[0mconfusion_matrix\u001B[0m\u001B[1;33m(\u001B[0m\u001B[0my_test\u001B[0m\u001B[1;33m,\u001B[0m \u001B[0my_pred\u001B[0m\u001B[1;33m)\u001B[0m\u001B[1;33m\u001B[0m\u001B[1;33m\u001B[0m\u001B[0m\n\u001B[0m\u001B[0;32m      3\u001B[0m \u001B[1;33m\u001B[0m\u001B[0m\n",
      "\u001B[1;32mc:\\users\\sagar\\envs\\test\\lib\\site-packages\\sklearn\\metrics\\_classification.py\u001B[0m in \u001B[0;36mconfusion_matrix\u001B[1;34m(y_true, y_pred, labels, sample_weight, normalize)\u001B[0m\n\u001B[0;32m    315\u001B[0m     \u001B[1;33m(\u001B[0m\u001B[1;36m0\u001B[0m\u001B[1;33m,\u001B[0m \u001B[1;36m2\u001B[0m\u001B[1;33m,\u001B[0m \u001B[1;36m1\u001B[0m\u001B[1;33m,\u001B[0m \u001B[1;36m1\u001B[0m\u001B[1;33m)\u001B[0m\u001B[1;33m\u001B[0m\u001B[1;33m\u001B[0m\u001B[0m\n\u001B[0;32m    316\u001B[0m     \"\"\"\n\u001B[1;32m--> 317\u001B[1;33m     \u001B[0my_type\u001B[0m\u001B[1;33m,\u001B[0m \u001B[0my_true\u001B[0m\u001B[1;33m,\u001B[0m \u001B[0my_pred\u001B[0m \u001B[1;33m=\u001B[0m \u001B[0m_check_targets\u001B[0m\u001B[1;33m(\u001B[0m\u001B[0my_true\u001B[0m\u001B[1;33m,\u001B[0m \u001B[0my_pred\u001B[0m\u001B[1;33m)\u001B[0m\u001B[1;33m\u001B[0m\u001B[1;33m\u001B[0m\u001B[0m\n\u001B[0m\u001B[0;32m    318\u001B[0m     \u001B[1;32mif\u001B[0m \u001B[0my_type\u001B[0m \u001B[1;32mnot\u001B[0m \u001B[1;32min\u001B[0m \u001B[1;33m(\u001B[0m\u001B[1;34m\"binary\"\u001B[0m\u001B[1;33m,\u001B[0m \u001B[1;34m\"multiclass\"\u001B[0m\u001B[1;33m)\u001B[0m\u001B[1;33m:\u001B[0m\u001B[1;33m\u001B[0m\u001B[1;33m\u001B[0m\u001B[0m\n\u001B[0;32m    319\u001B[0m         \u001B[1;32mraise\u001B[0m \u001B[0mValueError\u001B[0m\u001B[1;33m(\u001B[0m\u001B[1;34m\"%s is not supported\"\u001B[0m \u001B[1;33m%\u001B[0m \u001B[0my_type\u001B[0m\u001B[1;33m)\u001B[0m\u001B[1;33m\u001B[0m\u001B[1;33m\u001B[0m\u001B[0m\n",
      "\u001B[1;32mc:\\users\\sagar\\envs\\test\\lib\\site-packages\\sklearn\\metrics\\_classification.py\u001B[0m in \u001B[0;36m_check_targets\u001B[1;34m(y_true, y_pred)\u001B[0m\n\u001B[0;32m     93\u001B[0m \u001B[1;33m\u001B[0m\u001B[0m\n\u001B[0;32m     94\u001B[0m     \u001B[1;32mif\u001B[0m \u001B[0mlen\u001B[0m\u001B[1;33m(\u001B[0m\u001B[0my_type\u001B[0m\u001B[1;33m)\u001B[0m \u001B[1;33m>\u001B[0m \u001B[1;36m1\u001B[0m\u001B[1;33m:\u001B[0m\u001B[1;33m\u001B[0m\u001B[1;33m\u001B[0m\u001B[0m\n\u001B[1;32m---> 95\u001B[1;33m         raise ValueError(\n\u001B[0m\u001B[0;32m     96\u001B[0m             \"Classification metrics can't handle a mix of {0} and {1} targets\".format(\n\u001B[0;32m     97\u001B[0m                 \u001B[0mtype_true\u001B[0m\u001B[1;33m,\u001B[0m \u001B[0mtype_pred\u001B[0m\u001B[1;33m\u001B[0m\u001B[1;33m\u001B[0m\u001B[0m\n",
      "\u001B[1;31mValueError\u001B[0m: Classification metrics can't handle a mix of binary and continuous targets"
     ]
    }
   ],
   "source": [
    "from sklearn.metrics import confusion_matrix\n",
    "cm = confusion_matrix(y_test, y_pred)\n"
   ],
   "metadata": {
    "collapsed": false
   }
  },
  {
   "cell_type": "code",
   "execution_count": 70,
   "outputs": [
    {
     "data": {
      "text/plain": "array([[1481,    0],\n       [   0,   50]], dtype=int64)"
     },
     "execution_count": 70,
     "metadata": {},
     "output_type": "execute_result"
    }
   ],
   "source": [
    "cm"
   ],
   "metadata": {
    "collapsed": false
   }
  },
  {
   "cell_type": "code",
   "execution_count": 71,
   "outputs": [
    {
     "data": {
      "text/plain": "RandomForestClassifier(n_estimators=1000)",
      "text/html": "<style>#sk-container-id-3 {color: black;background-color: white;}#sk-container-id-3 pre{padding: 0;}#sk-container-id-3 div.sk-toggleable {background-color: white;}#sk-container-id-3 label.sk-toggleable__label {cursor: pointer;display: block;width: 100%;margin-bottom: 0;padding: 0.3em;box-sizing: border-box;text-align: center;}#sk-container-id-3 label.sk-toggleable__label-arrow:before {content: \"▸\";float: left;margin-right: 0.25em;color: #696969;}#sk-container-id-3 label.sk-toggleable__label-arrow:hover:before {color: black;}#sk-container-id-3 div.sk-estimator:hover label.sk-toggleable__label-arrow:before {color: black;}#sk-container-id-3 div.sk-toggleable__content {max-height: 0;max-width: 0;overflow: hidden;text-align: left;background-color: #f0f8ff;}#sk-container-id-3 div.sk-toggleable__content pre {margin: 0.2em;color: black;border-radius: 0.25em;background-color: #f0f8ff;}#sk-container-id-3 input.sk-toggleable__control:checked~div.sk-toggleable__content {max-height: 200px;max-width: 100%;overflow: auto;}#sk-container-id-3 input.sk-toggleable__control:checked~label.sk-toggleable__label-arrow:before {content: \"▾\";}#sk-container-id-3 div.sk-estimator input.sk-toggleable__control:checked~label.sk-toggleable__label {background-color: #d4ebff;}#sk-container-id-3 div.sk-label input.sk-toggleable__control:checked~label.sk-toggleable__label {background-color: #d4ebff;}#sk-container-id-3 input.sk-hidden--visually {border: 0;clip: rect(1px 1px 1px 1px);clip: rect(1px, 1px, 1px, 1px);height: 1px;margin: -1px;overflow: hidden;padding: 0;position: absolute;width: 1px;}#sk-container-id-3 div.sk-estimator {font-family: monospace;background-color: #f0f8ff;border: 1px dotted black;border-radius: 0.25em;box-sizing: border-box;margin-bottom: 0.5em;}#sk-container-id-3 div.sk-estimator:hover {background-color: #d4ebff;}#sk-container-id-3 div.sk-parallel-item::after {content: \"\";width: 100%;border-bottom: 1px solid gray;flex-grow: 1;}#sk-container-id-3 div.sk-label:hover label.sk-toggleable__label {background-color: #d4ebff;}#sk-container-id-3 div.sk-serial::before {content: \"\";position: absolute;border-left: 1px solid gray;box-sizing: border-box;top: 0;bottom: 0;left: 50%;z-index: 0;}#sk-container-id-3 div.sk-serial {display: flex;flex-direction: column;align-items: center;background-color: white;padding-right: 0.2em;padding-left: 0.2em;position: relative;}#sk-container-id-3 div.sk-item {position: relative;z-index: 1;}#sk-container-id-3 div.sk-parallel {display: flex;align-items: stretch;justify-content: center;background-color: white;position: relative;}#sk-container-id-3 div.sk-item::before, #sk-container-id-3 div.sk-parallel-item::before {content: \"\";position: absolute;border-left: 1px solid gray;box-sizing: border-box;top: 0;bottom: 0;left: 50%;z-index: -1;}#sk-container-id-3 div.sk-parallel-item {display: flex;flex-direction: column;z-index: 1;position: relative;background-color: white;}#sk-container-id-3 div.sk-parallel-item:first-child::after {align-self: flex-end;width: 50%;}#sk-container-id-3 div.sk-parallel-item:last-child::after {align-self: flex-start;width: 50%;}#sk-container-id-3 div.sk-parallel-item:only-child::after {width: 0;}#sk-container-id-3 div.sk-dashed-wrapped {border: 1px dashed gray;margin: 0 0.4em 0.5em 0.4em;box-sizing: border-box;padding-bottom: 0.4em;background-color: white;}#sk-container-id-3 div.sk-label label {font-family: monospace;font-weight: bold;display: inline-block;line-height: 1.2em;}#sk-container-id-3 div.sk-label-container {text-align: center;}#sk-container-id-3 div.sk-container {/* jupyter's `normalize.less` sets `[hidden] { display: none; }` but bootstrap.min.css set `[hidden] { display: none !important; }` so we also need the `!important` here to be able to override the default hidden behavior on the sphinx rendered scikit-learn.org. See: https://github.com/scikit-learn/scikit-learn/issues/21755 */display: inline-block !important;position: relative;}#sk-container-id-3 div.sk-text-repr-fallback {display: none;}</style><div id=\"sk-container-id-3\" class=\"sk-top-container\"><div class=\"sk-text-repr-fallback\"><pre>RandomForestClassifier(n_estimators=1000)</pre><b>In a Jupyter environment, please rerun this cell to show the HTML representation or trust the notebook. <br />On GitHub, the HTML representation is unable to render, please try loading this page with nbviewer.org.</b></div><div class=\"sk-container\" hidden><div class=\"sk-item\"><div class=\"sk-estimator sk-toggleable\"><input class=\"sk-toggleable__control sk-hidden--visually\" id=\"sk-estimator-id-3\" type=\"checkbox\" checked><label for=\"sk-estimator-id-3\" class=\"sk-toggleable__label sk-toggleable__label-arrow\">RandomForestClassifier</label><div class=\"sk-toggleable__content\"><pre>RandomForestClassifier(n_estimators=1000)</pre></div></div></div></div></div>"
     },
     "execution_count": 71,
     "metadata": {},
     "output_type": "execute_result"
    }
   ],
   "source": [
    "from sklearn.ensemble import RandomForestClassifier\n",
    "clf = RandomForestClassifier(n_estimators=1000)\n",
    "clf.fit(X_train,y_train)"
   ],
   "metadata": {
    "collapsed": false
   }
  },
  {
   "cell_type": "code",
   "execution_count": 72,
   "outputs": [
    {
     "data": {
      "text/plain": "0.9679947746570868"
     },
     "execution_count": 72,
     "metadata": {},
     "output_type": "execute_result"
    }
   ],
   "source": [
    "clf.score(X_test,y_test)\n"
   ],
   "metadata": {
    "collapsed": false
   }
  },
  {
   "cell_type": "code",
   "execution_count": null,
   "outputs": [],
   "source": [
    "from sklearn.decomposition import PCA\n",
    "pca = PCA(n_components=300)\n",
    "X = pca.fit_transform(X)"
   ],
   "metadata": {
    "collapsed": false
   }
  },
  {
   "cell_type": "code",
   "execution_count": 73,
   "outputs": [
    {
     "name": "stdout",
     "output_type": "stream",
     "text": [
      "319/319 [==============================] - 0s 933us/step\n",
      "10204\n",
      "10204\n"
     ]
    }
   ],
   "source": [
    "df_t = pd.read_csv('test.csv')\n",
    "df_t = pd.get_dummies(df_t, columns=['gender', 'ever_married', 'work_type', 'Residence_type'])\n",
    "id = df_t['id']\n",
    "X_t = df_t.drop(['id','smoking_status'],axis=1)\n",
    "from sklearn.preprocessing import StandardScaler\n",
    "sc = StandardScaler()\n",
    "X_t = sc.fit_transform((X_t))\n",
    "from keras.utils import np_utils\n",
    "X_t = X_t.astype('float32')\n",
    "\n",
    "X_t /= 255\n",
    "\n",
    "y_p = ann.predict(X_t)\n",
    "print(len(X_t))\n",
    "print(len(y_p))"
   ],
   "metadata": {
    "collapsed": false
   }
  },
  {
   "cell_type": "code",
   "execution_count": 76,
   "outputs": [],
   "source": [
    "df_t['stroke']=pd.Series([i[0] for i in y_p])\n",
    "df_t['id']=id\n",
    "csc = df_t[['id','stroke']]\n",
    "csc.to_csv('Submission_file_name.csv', index=False , header = 1)\n"
   ],
   "metadata": {
    "collapsed": false
   }
  },
  {
   "cell_type": "code",
   "execution_count": 131,
   "outputs": [],
   "source": [
    "with open('as.csv','w+') as ap:\n",
    "    for i in y_p:\n",
    "        ap.write(str(i[0]))\n",
    "        ap.write('\\n')"
   ],
   "metadata": {
    "collapsed": false
   }
  },
  {
   "cell_type": "code",
   "execution_count": 133,
   "outputs": [
    {
     "data": {
      "text/plain": "10204"
     },
     "execution_count": 133,
     "metadata": {},
     "output_type": "execute_result"
    }
   ],
   "source": [
    "len(y_p)"
   ],
   "metadata": {
    "collapsed": false
   }
  },
  {
   "cell_type": "code",
   "execution_count": null,
   "outputs": [],
   "source": [],
   "metadata": {
    "collapsed": false
   }
  }
 ],
 "metadata": {
  "kernelspec": {
   "display_name": "Python 3",
   "language": "python",
   "name": "python3"
  },
  "language_info": {
   "codemirror_mode": {
    "name": "ipython",
    "version": 2
   },
   "file_extension": ".py",
   "mimetype": "text/x-python",
   "name": "python",
   "nbconvert_exporter": "python",
   "pygments_lexer": "ipython2",
   "version": "2.7.6"
  }
 },
 "nbformat": 4,
 "nbformat_minor": 0
}
